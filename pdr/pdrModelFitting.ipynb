{
 "cells": [
  {
   "cell_type": "code",
   "execution_count": null,
   "metadata": {},
   "outputs": [],
   "source": [
    "\"\"\"\n",
    "  Plotting and fitting functions have been modularized outside\n",
    "  of this code instead of being integrated throughout.\n",
    "\n",
    "  Use FOUR fluxes to compute PDR parameters.\n",
    "  \n",
    "  Finds matching pixels for all emission lines before PDR fitting.\n",
    "\n",
    "  Computes the TIR using the 60 um and 100 um continuum flux.\n",
    "\n",
    "  Fit the continuum fluxes with a modified blackbody,\n",
    "  in the optically thin emission approximation.\n",
    "\n",
    "  Plot the fitted greybody spectrum and colormaps of the\n",
    "  dust temperature and dust mass.\n",
    "\n",
    "  Compute the PDR parameters nH and G0 using an online\n",
    "  PDR Toolbox. Make colormaps of those results.\n",
    "\"\"\""
   ]
  },
  {
   "cell_type": "code",
   "execution_count": 1,
   "metadata": {},
   "outputs": [
    {
     "name": "stderr",
     "output_type": "stream",
     "text": [
      "The mpl_toolkits.axes_grid module was deprecated in version 2.1. Use mpl_toolkits.axes_grid1 and mpl_toolkits.axisartist provies the same functionality instead.\n"
     ]
    }
   ],
   "source": [
    "# Standard\n",
    "import numpy as np\n",
    "import os\n",
    "from functools import partial\n",
    "from numpy import ma\n",
    "# Related\n",
    "import collections\n",
    "import pickle\n",
    "import scipy.ndimage\n",
    "from astropy.io import fits\n",
    "from astropy.wcs import WCS\n",
    "from astropy.convolution import Gaussian2DKernel\n",
    "from astropy.convolution import convolve\n",
    "from pyspeckit.parallel_map import parallel_map\n",
    "from scipy.integrate import quad\n",
    "from scipy.optimize import curve_fit\n",
    "from reproject import reproject_interp\n",
    "import matplotlib.pyplot as plt\n",
    "import matplotlib\n",
    "import matplotlib.gridspec as gridspec\n",
    "from matplotlib.offsetbox import AnchoredText\n",
    "from mpl_toolkits.axes_grid1.axes_grid import AxesGrid\n",
    "from matplotlib.backends.backend_pdf import PdfPages\n",
    "import pywcsgrid2\n",
    "# Local\n",
    "from pdrModelingThings import (fir, plotGBFit,\n",
    "                               cMapFirTir, cMapDustTempMass,\n",
    "                               cMapPdrParams4Fluxes,\n",
    "                               cMapPdrParams4FluxesNoWcs)#greybody)\n",
    "from fitsThings import createHdu, buildWcsOh\n",
    "from cleanImageThings import cleanImage\n",
    "from fluxThings import calcTotIntFluxes\n",
    "from dictionaryThings import (saveDict,loadDict,buildConvolvedLineProfDict,\n",
    "                              buildAllLineWcsLimits)\n",
    "from functionThings import gaussFunc,waveToVel,velToWave\n",
    "from maskThings import maskTrue\n",
    "from outlierThings import getIndices,findNeighbors\n",
    "from pdrt_getvaluesV2 import pdrt_getvaluesV2\n",
    "from pdrt_getvaluesV3 import pdrt_getvaluesV3\n",
    "from pixelThings import pixMinMax,findValidPixels\n",
    "from plotThings import lineRatios\n",
    "from ObsInfo import ObsInfo\n",
    "# --------------------------------------------------- #\n",
    "\n",
    "## This static function returns the grey body flux(Jy) for the specified\n",
    "# wavelength or wavelengths (micron), for the given observer distance D(pc),\n",
    "# power-law exponent beta, opacity kappa at 350 micron (m2/kg),\n",
    "# dust temperature T(K) and dust mass M(Msun).\n",
    "def greybody(wave,T,M):\n",
    "    nu = c / (wave*1.e-6)                                   # Hz\n",
    "    nu350 = c / 350.e-6                                     # Hz\n",
    "    kappa = kappa350 * (nu/nu350)**beta                     # m2/kg\n",
    "    Bnu = 2*h*nu**3/ c**2 / (np.exp((h*nu)/(k*T)) - 1)      # W/m2/Hz\n",
    "    flux = M*Msun * kappa * Bnu / (D*pc)**2                 # W/m2/Hz\n",
    "    return flux * 1.e26                                     # Jy\n",
    "\n",
    "## Compute the FIR total integrated flux (W/m2) from 42.5um to 122.5um using\n",
    "# the flux densities(Jy) of the greybody SED at 60um and 100um. (Helou1998)\n",
    "def fir(i60,i100):\n",
    "    return 1.26e-14*((2.58*i60)+i100)\n",
    "\n",
    "\n",
    "\n",
    "if __name__ == '__main__':\n",
    "\n",
    "    # ----------------------------- #\n",
    "    # Universal constants and units #\n",
    "    # ----------------------------- #\n",
    "    c = 2.99792458e8        # m/s, speed of light\n",
    "    h = 6.62606957e-34      # J s, Planck constant\n",
    "    k = 1.3806488e-23       # J/K, Boltzmann constant\n",
    "    pc = 3.08567758e16      # m, parsec\n",
    "    Msun = 1.9891e30        # kg, solar mass\n",
    "    kappa350 = .33          # m2/kg, opacity at 350 microns\n",
    "    beta = 1                # power-law exponent\n",
    "\n",
    "\n",
    "    arcsec = '3arc'\n",
    "    # Path to the highest level working directory.\n",
    "    topDir = '/Volumes/QbertPrimary/umdResearch/adapProposalNearby/'\n",
    "\n",
    "\n",
    "    # ----------------------------------------- #\n",
    "    # Necessary parameter file and dictionaries #\n",
    "    # ----------------------------------------- #\n",
    "    # Dictionary of galaxy properties\n",
    "    objDictName = topDir + 'objectInfoDict.pkl'\n",
    "    # Dictionary of emission line properties.\n",
    "    lineDict = loadDict(topDir + 'emiLineDict.pkl')\n",
    "    # Text file of line fitting parameters.\n",
    "    paramFileName = topDir + 'fittingParametersV4.txt'\n",
    "\n",
    "\n",
    "    # -------------------------------------------------- #\n",
    "    # Read in the parameter file containing line profile #\n",
    "    # velocity limits and continuum fitting information. #\n",
    "    # -------------------------------------------------- #\n",
    "    paramFile = np.genfromtxt(topDir + 'fittingParametersV4.txt', dtype = None,\n",
    "                              autostrip=True, names=True, encoding=None)"
   ]
  },
  {
   "cell_type": "code",
   "execution_count": 2,
   "metadata": {},
   "outputs": [],
   "source": [
    "    # Create empty dictionary.\n",
    "    lineProfDict = dict()\n",
    "\n",
    "    for x in range(len(paramFile)):\n",
    "\n",
    "        # ------------------------------------ #\n",
    "        # Get the galaxy and line information. #\n",
    "        # ------------------------------------ #\n",
    "        obsInfo = ObsInfo(x, paramFileName, objDictName)\n",
    "        objectName = obsInfo.objectName\n",
    "        # Name of the emission line.\n",
    "        lineName = paramFile['lineNameShort'][x]\n",
    "        # Rest wavelength of the emission line.\n",
    "        restWave = lineDict[lineName]['restWave']\n",
    "        d = (299792*obsInfo.z)/70.  # Assume Hubble constant of 70 km s-1 Mpc-1\n",
    "        D = d*1e6           # Distance in pc\n",
    "\n",
    "\n",
    "        # ---------------------------------- #\n",
    "        # Directory and Labeling Name Bases  #\n",
    "        # ---------------------------------- #\n",
    "        # Base for labeling inside plots.\n",
    "        objectLabel = (obsInfo.objectName.upper()+'  '+str(obsInfo.obsId)+'  '\n",
    "                       +lineDict[lineName]['texLabel'])\n",
    "        # Base for the object's file names.\n",
    "        objectNameBase = (str(obsInfo.obsId)+'_'+obsInfo.objectName+'_'+lineName)\n",
    "        # Base path to the object's directories.    \n",
    "        objectPathBase = (topDir + 'pySpecKitCube/run4/' + obsInfo.objectName + '/' + arcsec +'/')\n",
    "        if (not os.path.exists(objectPathBase)):os.makedirs(objectPathBase)\n",
    "\n",
    "\n",
    "        # -------------------- #\n",
    "        # Paths to save plots. #\n",
    "        # -------------------- #\n",
    "        bbPlotSavePath = objectPathBase + 'pdr/bbDustPlots/'\n",
    "        if (not os.path.exists(bbPlotSavePath)):os.makedirs(bbPlotSavePath)\n",
    "\n",
    "        pdrSavePath = objectPathBase+'pdr/results/'\n",
    "        if (not os.path.exists(pdrSavePath)):os.makedirs(pdrSavePath)\n",
    "\n",
    "        ratioSavePath = objectPathBase+'pdr/lineRatios/'\n",
    "        if (not os.path.exists(ratioSavePath)):os.makedirs(ratioSavePath)\n",
    "\n",
    "        # ---------------------------------------------- #\n",
    "        # Path and file name of the original FITS files. #\n",
    "        # ---------------------------------------------- #\n",
    "        fitsFile = objectPathBase + 'outFitsFiles2/' + objectNameBase + '.fits'\n",
    "        fitsHdu = fits.open(fitsFile)\n",
    "\n",
    "\n",
    "        # --------------------------------- #\n",
    "        # Open the fits file containing the #\n",
    "        # spectra and extract the data.     #\n",
    "        # --------------------------------- #\n",
    "        # Convert spectral axis wavelengths to velocities and correct for redshift.\n",
    "        obsInfo.computeVels(fitsFile, restWave, velCorr=True)\n",
    "\n",
    "        minIdx = obsInfo.minIdx\n",
    "        maxIdx = obsInfo.maxIdx\n",
    "\n",
    "        vels = obsInfo.originalHdu['zCorrVels'].data\n",
    "        # Raw fluxes.\n",
    "        data = obsInfo.originalHdu['image'].data[minIdx : maxIdx]\n",
    "        # Total integrated fluxes in Jy km/s\n",
    "        fluxJyKmS = obsInfo.originalHdu['flux'].data\n",
    "        # Gaussian parameters of line profile fit.\n",
    "        gaussParams = obsInfo.originalHdu['gaussParam'].data\n",
    "\n",
    "        # Number of rows, columns, and fluxes in the cropped 3D data array.\n",
    "        nRows,nCols,nFluxes = data.shape[2], data.shape[1], data.shape[0]\n",
    "\n",
    "        # Get the WCS for plotting.\n",
    "        pacsWcs = buildWcsOh(fitsFile)\n",
    "\n",
    "\n",
    "        # ------------------------ #\n",
    "        # Get the continuum fluxes #\n",
    "        # ------------------------ #\n",
    "        # The continuum-subtracted fluxes are already cropped\n",
    "        contSubFluxes = obsInfo.originalHdu['contSubFluxes'].data\n",
    "        contSubFluxesMasked = ma.masked_where(contSubFluxes==0,contSubFluxes)\n",
    "        # Compute the continuum fluxes.\n",
    "        contFluxes = obsInfo.originalHdu['fittedContFluxes'].data\n",
    "        # Get the continuum flux at the line wavelength.\n",
    "        lineContFluxIdx = (np.abs(vels - 0.)).argmin()\n",
    "        lineContFlux = contFluxes[lineContFluxIdx,:,:]\n",
    "\n",
    "\n",
    "        # ---------------------------------------- #\n",
    "        # Make a list of valid spaxel coordinates. #\n",
    "        # ---------------------------------------- #\n",
    "        fluxJyKmSMasked = ma.masked_where(fluxJyKmS==0,fluxJyKmS)\n",
    "        # Get the mask of the flux image.\n",
    "        maskArray=ma.getmask(fluxJyKmSMasked)\n",
    "        validPixels = findValidPixels((nCols,nRows),maskArray=maskArray)\n",
    "\n",
    "\n",
    "        # --------------------------------------------------- #\n",
    "        # Find the (col,row) min/max limits of valid spaxels. #\n",
    "        # Min/max will be used to crop the data and the WCS.  #\n",
    "        # --------------------------------------------------- #\n",
    "        wcsMinMax = pixMinMax(validPixels)\n",
    "\n",
    "\n",
    "        # --------------------------------------------------------------- #\n",
    "        # Convert the gauss peak velocity and sigma from km/s to microns. #\n",
    "        # --------------------------------------------------------------- #\n",
    "        for ii in [1,4]:\n",
    "            gaussParams[ii,:,:] = velToWave(gaussParams[ii,:,:],restWave,obsInfo.z)\n",
    "        for ii in [2,5]:\n",
    "            gaussParams[ii,:,:] = velToWave(gaussParams[ii,:,:],restWave,obsInfo.z)\\\n",
    "                                  -velToWave(0.,restWave,obsInfo.z)\n",
    "        if objectName == 'ngc1068':\n",
    "            gaussParams[7,:,:] = velToWave(gaussParams[7,:,:],restWave,obsInfo.z)\n",
    "            gaussParams[8,:,:] = velToWave(gaussParams[8,:,:],restWave,obsInfo.z)\\\n",
    "                                 -velToWave(0.,restWave,obsInfo.z)\n",
    "\n",
    "\n",
    "        # ----------------------------------- #\n",
    "        # Do total flux integration in Jy um. #\n",
    "        # ----------------------------------- #\n",
    "        # Create a velocity array and convert it from km/s to microns.\n",
    "        velRange = np.arange(-2000,2000,1)\n",
    "        waveRange = velToWave(velRange,restWave,obsInfo.z)\n",
    "        # Compute total integrated flux in units of Jy um\n",
    "        fluxJyUm = calcTotIntFluxes(gaussParams=gaussParams,\n",
    "                                    validPixels=validPixels,xValues=waveRange)\n",
    "        # Convert Jy um to W/m2\n",
    "        fluxWm2=fluxJyUm*2.99e-12/restWave**2.\n",
    "        # Mask the converted fluxes using the mask from the Jy km/s flux image.\n",
    "        fluxWm2Masked = ma.masked_array(fluxWm2,mask=maskArray)\n",
    "\n",
    "\n",
    "        # ----------------------------------------------- #\n",
    "        # Convolve to the resolution of PACS at [CII]158. #\n",
    "        # ----------------------------------------------- #\n",
    "        # Compute the number of pixels which corresponds to the sigma\n",
    "        # of the line's angular resolution.\n",
    "        lineSpatRes = lineDict[lineName]['spatRes']\n",
    "        lineSigma = (lineSpatRes/2.3548)/int(arcsec.strip('arc'))\n",
    "        cii158Sigma = (11.5/2.3548)/int(arcsec.strip('arc'))\n",
    "        # Make the kernel\n",
    "        if lineName != 'cii158':\n",
    "            # Sigma value for the 2D kernel.\n",
    "            sig=(cii158Sigma**2.-lineSigma**2.)**.5\n",
    "            kernel = Gaussian2DKernel(sig)\n",
    "            # Do the convolution in both flux units (unless the line is CII)\n",
    "            convolvedFluxJyKmS=convolve(fluxJyKmSMasked,kernel)\n",
    "            convolvedFluxWm2=convolve(fluxWm2Masked,kernel)\n",
    "            # Mask the convolved fluxes.\n",
    "            convolvedFluxJyKmSMasked = ma.masked_array(convolvedFluxJyKmS,\n",
    "                                                       mask=maskArray)\n",
    "            convolvedFluxWm2Masked = ma.masked_array(convolvedFluxWm2,\n",
    "                                                     mask=maskArray)\n",
    "\n",
    "\n",
    "        # --------------------------------- #\n",
    "        # Build the line profile dictionary #\n",
    "        # --------------------------------- #\n",
    "        keyValuesList =[fitsHdu,gaussParams,validPixels,wcsMinMax,pacsWcs,\n",
    "                        fluxJyKmS,fluxJyKmSMasked,\n",
    "                        fluxWm2,fluxWm2Masked]\n",
    "        extraKeyValuesList=[convolvedFluxJyKmS,convolvedFluxJyKmSMasked,\n",
    "                            convolvedFluxWm2,convolvedFluxWm2Masked]\n",
    "        buildConvolvedLineProfDict(lineProfDict=lineProfDict,\n",
    "                                   lineName=lineName,\n",
    "                                   keyValuesList=keyValuesList,\n",
    "                                   extraKeyValuesList=extraKeyValuesList)\n",
    "        lineProfDict[lineName].setdefault('lineContFlux',lineContFlux)\n",
    "        lineProfDict[lineName].setdefault('restWave',restWave)\n",
    "        lineProfDict[lineName].setdefault('validPixels',validPixels)\n",
    "        lineProfDict[lineName].setdefault('mask',maskArray)"
   ]
  },
  {
   "cell_type": "code",
   "execution_count": 3,
   "metadata": {},
   "outputs": [],
   "source": [
    "    for key in lineProfDict.keys():\n",
    "        # Get the celestial WCS and convert it to a header object.\n",
    "        wcsHdr = WCS(lineProfDict[key]['fitsHdu']['image'].header).celestial.to_header()\n",
    "        # Add axes information.\n",
    "        wcsHdr['NAXIS1'] = lineProfDict[key]['fitsHdu']['image'].header['NAXIS1']\n",
    "        wcsHdr['NAXIS2'] = lineProfDict[key]['fitsHdu']['image'].header['NAXIS2']\n",
    "        # Create a new HDU card with the fluxWm2 image and the new  WCS header.\n",
    "        newHdu = fits.PrimaryHDU(lineProfDict[key]['fluxWm2'], header = wcsHdr)\n",
    "        lineProfDict[key].setdefault('newHduFluxWm2', newHdu)"
   ]
  },
  {
   "cell_type": "code",
   "execution_count": 4,
   "metadata": {},
   "outputs": [],
   "source": [
    "    lineProfDict['cii158'].setdefault('fluxWm2Reproject',np.ma.masked_where(lineProfDict['cii158']['newHduFluxWm2'].data==0.,\n",
    "                                                                            lineProfDict['cii158']['newHduFluxWm2'].data))\n",
    "    # Reproject all lines to the CII 158 WCS.\n",
    "    for key in lineProfDict.keys():\n",
    "        if key != 'cii158':\n",
    "            fluxWm2Reproject, footprint = reproject_interp(lineProfDict[key]['newHduFluxWm2'],\n",
    "                                                           lineProfDict['cii158']['newHduFluxWm2'].header)\n",
    "            fluxWm2ReprojectM = np.ma.masked_where(fluxWm2Reproject==0.,fluxWm2Reproject)\n",
    "            lineProfDict[key].setdefault('fluxWm2Reproject', fluxWm2ReprojectM)\n"
   ]
  },
  {
   "cell_type": "code",
   "execution_count": 5,
   "metadata": {},
   "outputs": [
    {
     "data": {
      "image/png": "[encoded data removed]",
      "text/plain": [
       "<Figure size 1600x800 with 5 Axes>"
      ]
     },
     "metadata": {},
     "output_type": "display_data"
    }
   ],
   "source": [
    "    ciiW = WCS(lineProfDict['cii158']['newHduFluxWm2'].header).celestial\n",
    "    import matplotlib.pyplot as plt\n",
    "    \n",
    "    fig = plt.figure(facecolor='white',figsize=(8,4),dpi=200)\n",
    "    for ii in xrange(len(lineProfDict.keys())):\n",
    "        ax = fig.add_subplot(1,len(lineProfDict.keys()),ii+1, projection = ciiW)\n",
    "        ax.imshow(lineProfDict[lineProfDict.keys()[ii]]['fluxWm2Reproject'])\n",
    "        ax.set_title(lineProfDict.keys()[ii])\n",
    "\n",
    "        ra = ax.coords['ra']\n",
    "        dec = ax.coords['dec']\n",
    "        ra.set_ticklabel(size=6)\n",
    "        dec.set_ticklabel(size=6)\n",
    "        if ii !=0:\n",
    "            dec.set_ticklabel_visible(False)\n",
    "    \n",
    "    plt.show()\n",
    "        "
   ]
  },
  {
   "cell_type": "code",
   "execution_count": 6,
   "metadata": {},
   "outputs": [],
   "source": [
    "    nColsNew,nRowsNew = lineProfDict['cii158']['fluxWm2Reproject'].shape\n"
   ]
  },
  {
   "cell_type": "code",
   "execution_count": 7,
   "metadata": {},
   "outputs": [
    {
     "data": {
      "image/png": "[encoded data removed]",
      "text/plain": [
       "<Figure size 600x400 with 2 Axes>"
      ]
     },
     "metadata": {},
     "output_type": "display_data"
    }
   ],
   "source": [
    "fig = plt.figure(facecolor='white',dpi=100)\n",
    "\n",
    "ax1 = fig.add_subplot(121)\n",
    "ax1.imshow(lineProfDict['cii158']['fluxWm2Reproject'])\n",
    "\n",
    "ax2 = fig.add_subplot(122)\n",
    "ax2.imshow(lineProfDict['oiii88']['fluxWm2Reproject'])\n",
    "\n",
    "plt.show()"
   ]
  },
  {
   "cell_type": "code",
   "execution_count": 7,
   "metadata": {},
   "outputs": [],
   "source": [
    "    # ----------------------------------------------- #\n",
    "    # Send each line and its continuum flux to arrays #\n",
    "    # ----------------------------------------------- #\n",
    "    lineContFluxes = np.zeros([4,nColsNew,nRowsNew])\n",
    "    lineRestWaves = np.zeros([4,nColsNew,nRowsNew])\n",
    "    for col,row in list(samePixList):\n",
    "        tempFluxes = np.array([])\n",
    "        tempRestWaves = np.array([])\n",
    "        for key in lineProfDict.keys():\n",
    "            if key != 'nii122':\n",
    "                tempFluxes=np.append(tempFluxes,\n",
    "                                     lineProfDict[key]['lineContFluxCropMask'][col,row])\n",
    "                tempRestWaves=np.append(tempRestWaves,lineProfDict[key]['restWave'])\n",
    "\n",
    "        lineContFluxes[:,col,row]=tempFluxes\n",
    "        lineRestWaves[:,col,row]=tempRestWaves\n",
    "    lineRestWaves = ma.masked_where(lineContFluxes==0,lineRestWaves)\n",
    "    lineContFluxes = ma.masked_where(lineContFluxes==0,lineContFluxes)\n"
   ]
  },
  {
   "cell_type": "code",
   "execution_count": 8,
   "metadata": {},
   "outputs": [
    {
     "data": {
      "image/png": "[encoded data removed]",
      "text/plain": [
       "<Figure size 1200x1600 with 4 Axes>"
      ]
     },
     "metadata": {},
     "output_type": "display_data"
    }
   ],
   "source": [
    "    # --------------------------------------------- #\n",
    "    # Make a colormap of the continuum line fluxes. #\n",
    "    # --------------------------------------------- #\n",
    "    import matplotlib.pyplot as plt\n",
    "    import matplotlib\n",
    "\n",
    "    labelSize = 5\n",
    "    matplotlib.rcParams['xtick.labelsize'] = labelSize\n",
    "    matplotlib.rcParams['ytick.labelsize'] = labelSize\n",
    "\n",
    "\n",
    "    fig = plt.figure(figsize=(6,8),dpi=200, facecolor='w', edgecolor='k')\n",
    "    ax1 = fig.add_subplot(141)\n",
    "    ax2 = fig.add_subplot(142)\n",
    "    ax3 = fig.add_subplot(143)\n",
    "    ax4 = fig.add_subplot(144)\n",
    "\n",
    "    ax1.imshow(lineContFluxes[0])\n",
    "    ax2.imshow(lineContFluxes[1])\n",
    "    ax3.imshow(lineContFluxes[2])\n",
    "    ax4.imshow(lineContFluxes[3])\n",
    "\n",
    "    fig.text(0.5, 0.58, objectName.upper(),ha='center',fontsize=10)\n",
    "\n",
    "    plt.show()"
   ]
  },
  {
   "cell_type": "code",
   "execution_count": 9,
   "metadata": {},
   "outputs": [],
   "source": [
    "    # ----------------------------- #\n",
    "    # Fit the greybody to the data. #\n",
    "    # ----------------------------- #\n",
    "    # Wavelengths to compute the blackbody spectrum\n",
    "    wavelengths = np.arange(45,250,1)\n",
    "    waveLog = np.log10(wavelengths)\n",
    "    # Initial guesses for temp(K) and mass(M_solar)\n",
    "    p0=[40,1e7]\n",
    "    # Function to fit the SED\n",
    "    def gbFit(iicolrow):\n",
    "        ii,col,row=iicolrow\n",
    "        popt, pcov = curve_fit(greybody,lineRestWaves[:,col,row],\n",
    "                               lineContFluxes[:,col,row],p0,maxfev = 20000)\n",
    "        return((col,row),popt)\n",
    "    # Run parallel_map for gbFit\n",
    "    sequence = [(ii,col,row) for ii,(col,row) in tuple(enumerate(samePixList))]\n",
    "    result = parallel_map(gbFit, sequence, numcores=4)\n",
    "    # Get the fitted dust mass and temperature\n",
    "    dustTempMass = np.zeros((2,nColsNew,nRowsNew))\n",
    "    for i in range(len(result)):\n",
    "        col,row=int(result[i][0][0]),int(result[i][0][1])\n",
    "        dustTempMass[:,col,row]=result[i][1]\n",
    "    # Mask bad data.\n",
    "    dustTempMass = ma.masked_where(dustTempMass==0,dustTempMass)"
   ]
  },
  {
   "cell_type": "code",
   "execution_count": 10,
   "metadata": {},
   "outputs": [],
   "source": [
    "    # --------------------- #\n",
    "    # Compute the TIR flux. #\n",
    "    # --------------------- #\n",
    "    i60 = greybody(60,dustTempMass[0,:,:],dustTempMass[1,:,:])\n",
    "    i100 = greybody(100,dustTempMass[0,:,:],dustTempMass[1,:,:])\n",
    "    firValue = fir(i60,i100)\n",
    "    tirValue = 10**(.33)*firValue\n",
    "\n",
    "\n",
    "    # --------------------------------------------------- #\n",
    "    # Compute fluxes of the fitted greybody for plotting. #\n",
    "    # --------------------------------------------------- #    \n",
    "    gbWavesTemp = np.arange(45,250,1)\n",
    "    gbWaves = np.zeros((len(gbWavesTemp),nColsNew,nRowsNew))\n",
    "    for col in range(nColsNew):\n",
    "        for row in range(nRowsNew):\n",
    "            gbWaves[:,col,row] = gbWavesTemp\n",
    "    gbFluxes = greybody(gbWaves,\n",
    "                        dustTempMass[0,:,:],\n",
    "                        dustTempMass[1,:,:])"
   ]
  },
  {
   "cell_type": "code",
   "execution_count": 11,
   "metadata": {},
   "outputs": [
    {
     "name": "stderr",
     "output_type": "stream",
     "text": [
      "The is_string_like function was deprecated in version 2.1.\n"
     ]
    }
   ],
   "source": [
    "    # ------------------------------------------- #\n",
    "    # Plot the fitted BB SED and the data points. #\n",
    "    # ------------------------------------------- #\n",
    "    plotGBFit(dataFluxPoints=lineContFluxes,\n",
    "              dataWavePoints=lineRestWaves,\n",
    "              gbFluxes=gbFluxes,\n",
    "              gbWaves=gbWaves,\n",
    "              nColsRows=[nColsNew,nRowsNew],\n",
    "              validPixels=samePixList,\n",
    "              plotTitle=objectName.upper()+r' GB SED Fit ($\\beta = 1$)',\n",
    "              saveName=bbPlotSavePath+objectName+'_gbFit_b1.pdf')\n",
    "\n",
    "\n",
    "    # ------------------------------------------------- #\n",
    "    # Make a colormap of the dust temperature and mass. #\n",
    "    # ------------------------------------------------- #\n",
    "    cMapDustTempMass(dustTempMass,\n",
    "                     wcs=pacsWcs[t[0]:t[1],t[2]:t[3]],wcsMinMax=wcsMinMax,\n",
    "                     fluxImage=lineProfDict['oi63']['lineContFluxCropMask'],\n",
    "                     raCenter=obsInfo.raCenter,decCenter=obsInfo.decCenter,\n",
    "                     plotTitle=(objectName.upper()+' ([OI]63 Continuum Contours) '\n",
    "                                +r'$\\beta = 1$'),\n",
    "                     saveName=bbPlotSavePath+objectName+'_dustTempMass_b1.pdf')\n",
    "\n",
    "\n",
    "    # ---------------------------------- #\n",
    "    # Make color maps of the TIR and FIR #\n",
    "    # ---------------------------------- #\n",
    "    cMapFirTir(tirValues=tirValue,firValues=firValue,\n",
    "               wcs=pacsWcs[t[0]:t[1],t[2]:t[3]],wcsMinMax=wcsMinMax,\n",
    "               raCenter=obsInfo.raCenter,decCenter=obsInfo.decCenter,\n",
    "               fluxImage=lineProfDict['oi63']['lineContFluxCropMask'],\n",
    "               plotTitle=(objectName.upper()+' ([OI]63 Continuum Contours) '+\n",
    "                          r'$\\beta = 1$'),\n",
    "               saveName=bbPlotSavePath+objectName+'_tir_fir_b1.pdf')"
   ]
  },
  {
   "cell_type": "code",
   "execution_count": 12,
   "metadata": {},
   "outputs": [],
   "source": [
    "    # -------------------------- #\n",
    "    # Prep work for PDR Toolbox. #\n",
    "    # -------------------------- #\n",
    "    oi63Double=oi63*2\n",
    "    \n",
    "    #oi63Double = oi63*4.5\n",
    "    cii158Corr = cii158 - (1.1*nii122)\n",
    "    \n",
    "    pdrParams = np.zeros((12,cii158.shape[0],cii158.shape[1]))\n",
    "    # List of flux combos to compute the PDR parameters.\n",
    "    convFluxList = np.concatenate((np.array((tirValue,cii158CroppedMasked,oi145CroppedMasked,oi63CroppedMasked)),\n",
    "                                   np.array((tirValue,cii158Corr,oi145CroppedMasked,oi63CroppedMasked)),\n",
    "                                   np.array((tirValue,cii158CroppedMasked,oi145,oi63Double)),\n",
    "                                   np.array((tirValue,cii158Corr,oi145CroppedMasked,oi63Double))\n",
    "                                 ))\n",
    "    where_are_NaNs = np.isnan(convFluxList)\n",
    "    convFluxList[where_are_NaNs] = 0"
   ]
  },
  {
   "cell_type": "code",
   "execution_count": 13,
   "metadata": {},
   "outputs": [
    {
     "name": "stdout",
     "output_type": "stream",
     "text": [
      "PDR Fitting line set 0\n"
     ]
    }
   ],
   "source": [
    "    # ----------------------------------------------- #\n",
    "    # Run the PDR Toolbox and get the PDR parameters. #\n",
    "    # ----------------------------------------------- #\n",
    "    count = 0\n",
    "    for ii in np.arange(0,4,4):\n",
    "#    for ii in np.arange(0,len(convFluxList),4):\n",
    "        if ii == 0 : setName = 'NoCorr'\n",
    "        if ii == 4 : setName = 'Cii158Corr'\n",
    "        if ii == 8 : setName = 'Oi63Corr'\n",
    "        if ii == 12 : setName = 'BothCorr'\n",
    "\n",
    "        if setName in ['Oi63Corr', 'BothCorr']:\n",
    "            nmin, nmax = 5000, 1e7\n",
    "            gmin = 0\n",
    "        else:\n",
    "            nmin, nmax =  0, 1e4\n",
    "            gmin = 0\n",
    "\n",
    "        # Where to save the model maps.\n",
    "        savedir = pdrSavePath + 'webRatioPlots'+setName+'/'\n",
    "        if (not os.path.exists(savedir)):os.makedirs(savedir)\n",
    "        # Loop through valid pixels only.\n",
    "        for col,row in samePixList:\n",
    "            # Choose the four values for ratios.\n",
    "            lineNames = ['FIR','CII_158','OI_145','OI_63']\n",
    "            # Make the lists of fluxes and errors.\n",
    "            convFlux = convFluxList[ii:ii+4,col,row]\n",
    "            fluxErr = (np.array(convFlux)*.2).tolist()\n",
    "            # Label for saving.\n",
    "            suffix = '_col'+str(int(row))+'_row'+str(int(col))+'_'+setName\n",
    "\n",
    "            # Get the parameters from the cropped chi2 parameter space.\n",
    "            savePlots = False\n",
    "#             chisq,n,g0,url = pdrt_getvaluesV3(lineNames,convFlux,fluxErr,\n",
    "#                                               saveplots=savePlots,\n",
    "#                                               savedir=savedir,\n",
    "#                                               suffix=suffix,\n",
    "#                                               nmin=nmin,\n",
    "#                                               nmax=nmax,\n",
    "#                                               gmin=gmin)\n",
    "#             pdrParams[count:count+3,col,row]=[chisq,n,g0]\n",
    "\n",
    "\n",
    "            # Don't create the ratio maps.\n",
    "            chisq,n,g0,url = pdrt_getvaluesV3(lineNames,convFlux,fluxErr)\n",
    "            pdrParams[count:count+3,col,row]=[chisq,n,g0]\n",
    "\n",
    "\n",
    "        count += 3\n",
    "        print 'PDR Fitting line set %d' % (ii)\n",
    "    # Mask bad pixels.\n",
    "    pdrParamsMasked = ma.masked_where(pdrParams==0.,pdrParams)"
   ]
  },
  {
   "cell_type": "code",
   "execution_count": 15,
   "metadata": {},
   "outputs": [],
   "source": [
    "    # ----------------------------------- #\n",
    "    # Find vMin/vMax to put the colormaps #\n",
    "    # on the same colorbar scale.         #\n",
    "    # ----------------------------------- #\n",
    "    nMin = np.min([np.amin(pdrParamsMasked[1,:,:]),\n",
    "                   np.amin(pdrParamsMasked[4,:,:]),\n",
    "                   np.amin(pdrParamsMasked[7,:,:]),\n",
    "                   np.amin(pdrParamsMasked[10,:,:])])\n",
    "    nMax = np.max([np.amax(pdrParamsMasked[1,:,:]),\n",
    "                   np.amax(pdrParamsMasked[4,:,:]),\n",
    "                   np.amax(pdrParamsMasked[7,:,:]),\n",
    "                   np.amax(pdrParamsMasked[10,:,:])])\n",
    "    gMin = np.min([np.amin(pdrParamsMasked[2,:,:]),\n",
    "                   np.amin(pdrParamsMasked[5,:,:]),\n",
    "                   np.amin(pdrParamsMasked[8,:,:]),\n",
    "                   np.amin(pdrParamsMasked[11,:,:])])\n",
    "    gMax = np.max([np.amax(pdrParamsMasked[2,:,:]),\n",
    "                   np.amax(pdrParamsMasked[5,:,:]),\n",
    "                   np.amax(pdrParamsMasked[8,:,:]),\n",
    "                   np.amax(pdrParamsMasked[11,:,:])])\n",
    "    cmapMinMax = [nMin,nMax,gMin,gMax]"
   ]
  },
  {
   "cell_type": "code",
   "execution_count": 18,
   "metadata": {},
   "outputs": [
    {
     "name": "stderr",
     "output_type": "stream",
     "text": [
      "Warning: 'partition' will ignore the 'mask' of the MaskedArray.\n",
      "Rasterization of '<matplotlib.collections.QuadMesh object at 0xb0c5147d0>' will be ignored\n",
      "Rasterization of '<matplotlib.collections.QuadMesh object at 0xb0c8b01d0>' will be ignored\n",
      "Rasterization of '<matplotlib.collections.QuadMesh object at 0xb0c4e2d90>' will be ignored\n",
      "Rasterization of '<matplotlib.collections.QuadMesh object at 0xb0cad0a90>' will be ignored\n",
      "Rasterization of '<matplotlib.collections.QuadMesh object at 0x1c15451690>' will be ignored\n",
      "Rasterization of '<matplotlib.collections.QuadMesh object at 0x1c15518f50>' will be ignored\n",
      "Rasterization of '<matplotlib.collections.QuadMesh object at 0x1c1562e9d0>' will be ignored\n",
      "Rasterization of '<matplotlib.collections.QuadMesh object at 0x1c156c3550>' will be ignored\n",
      "Rasterization of '<matplotlib.collections.QuadMesh object at 0x1c158cde90>' will be ignored\n",
      "Rasterization of '<matplotlib.collections.QuadMesh object at 0x1c159dcd10>' will be ignored\n",
      "Rasterization of '<matplotlib.collections.QuadMesh object at 0x1c15a6ef90>' will be ignored\n",
      "Rasterization of '<matplotlib.collections.QuadMesh object at 0x1c14234690>' will be ignored\n"
     ]
    }
   ],
   "source": [
    "    # -------------------------------------- #\n",
    "    # Make color maps of the PDR parameters. #\n",
    "    # -------------------------------------- #\n",
    "    savePlotSuffix = '_b1_chiCropped'\n",
    "    plotTitle = ' PDR Results (4 Fluxes)'+r' $\\beta=1\\, x^2$-crop'\n",
    "\n",
    "    cMapPdrParams4Fluxes(pdrParams=pdrParamsMasked,\n",
    "                         wcs=pacsWcs[t[0]:t[1],t[2]:t[3]],\n",
    "                         wcsMinMax=t,\n",
    "                         raCenter=obsInfo.raCenter,\n",
    "                         decCenter=obsInfo.decCenter,\n",
    "                         objectName=objectName,\n",
    "                         plotTitle=(objectName.upper()+plotTitle),\n",
    "                         saveFileName=(pdrSavePath+objectName+\n",
    "                                       '_4fluxes'+savePlotSuffix+'.pdf'),\n",
    "                         cmapMinMax = None\n",
    "                        )\n",
    "\n",
    "    cMapPdrParams4FluxesNoWcs(pdrParams=pdrParamsMasked,\n",
    "                              objectName=objectName,\n",
    "                              plotTitle=(objectName.upper()+plotTitle),\n",
    "                              saveFileName=(pdrSavePath+objectName+\n",
    "                                            '_4fluxes'+savePlotSuffix+'_noWcs.pdf'),\n",
    "                              cmapMinMax = cmapMinMax\n",
    "                             )"
   ]
  },
  {
   "cell_type": "code",
   "execution_count": 14,
   "metadata": {},
   "outputs": [
    {
     "data": {
      "text/plain": [
       "XTENSION= 'IMAGE   '           / Image extension                                \n",
       "BITPIX  =                  -64 / array data type                                \n",
       "NAXIS   =                    2 / number of array dimensions                     \n",
       "NAXIS1  =                   24                                                  \n",
       "NAXIS2  =                   23                                                  \n",
       "PCOUNT  =                    0 / number of parameters                           \n",
       "GCOUNT  =                    1 / number of groups                               \n",
       "EXTNAME = 'flux    '                                                            "
      ]
     },
     "execution_count": 14,
     "metadata": {},
     "output_type": "execute_result"
    }
   ],
   "source": [
    "fitsHdu['flux'].header"
   ]
  },
  {
   "cell_type": "code",
   "execution_count": 19,
   "metadata": {},
   "outputs": [],
   "source": [
    "    hdr = fitsHdu['flux'].header"
   ]
  },
  {
   "cell_type": "code",
   "execution_count": 21,
   "metadata": {},
   "outputs": [],
   "source": [
    "    del hdr['XTENSION']"
   ]
  },
  {
   "cell_type": "code",
   "execution_count": 23,
   "metadata": {},
   "outputs": [],
   "source": [
    "    origHdr = fitsHdu['image'].header\n",
    "    crval1 = origHdr['CRVAL1']  # First coordinate of reference pixel\n",
    "    crval2 = origHdr['CRVAL2']  # Second coordinate of reference pixel\n",
    "    cdelt1 = origHdr['CDELT1']  # Pixel scale axis 1, unit=Angle\n",
    "    cdelt2 = origHdr['CDELT2']  # Pixel scale axis 2, unit=Angle\n",
    "    naxis1 = pdrParams.shape[1]\n",
    "    naxis2 = pdrParams.shape[2]"
   ]
  },
  {
   "cell_type": "code",
   "execution_count": 26,
   "metadata": {},
   "outputs": [
    {
     "data": {
      "text/plain": [
       "148.99419022341795"
      ]
     },
     "execution_count": 26,
     "metadata": {},
     "output_type": "execute_result"
    }
   ],
   "source": [
    "crval1"
   ]
  },
  {
   "cell_type": "code",
   "execution_count": 16,
   "metadata": {},
   "outputs": [
    {
     "data": {
      "text/plain": [
       "<bound method WCS.to_header of WCS Keywords\n",
       "\n",
       "Number of WCS axes: 2\n",
       "CTYPE : 'RA---TAN'  'DEC--TAN'  \n",
       "CRVAL : 148.99419022341795  69.67042235532361  \n",
       "CRPIX : -3.0  -3.0  \n",
       "PC1_1 PC1_2  : 1.0  0.0  \n",
       "PC2_1 PC2_2  : 0.0  1.0  \n",
       "CDELT : -0.0008333333333333  0.0008333333333333334  \n",
       "NAXIS : 0  0>"
      ]
     },
     "execution_count": 16,
     "metadata": {},
     "output_type": "execute_result"
    }
   ],
   "source": [
    "    ## Get the header information of the spectra HDU\n",
    "    hdr = hdu['flux'].header\n",
    "\n",
    "    ## Get the WCS header info\n",
    "    crval1 = hdr['CRVAL1']  # First coordinate of reference pixel\n",
    "    crval2 = hdr['CRVAL2']  # Second coordinate of reference pixel\n",
    "    cdelt1 = hdr['CDELT1']  # Pixel scale axis 1, unit=Angle\n",
    "    cdelt2 = hdr['CDELT2']  # Pixel scale axis 2, unit=Angle\n",
    "\n",
    "    naxis1 = hdr['NAXIS1']\n",
    "    naxis2 = hdr['NAXIS2']\n",
    "\n",
    "    w = wcs.WCS(naxis=2)\n",
    "    w.wcs.ctype = ['RA---TAN','DEC--TAN']\n",
    "    w.wcs.cunit = ['deg','deg']\n",
    "    w.wcs.crval = [crval1,crval2]\n",
    "    w.wcs.crpix = [1.0,  1.0]\n",
    "    w.wcs.cdelt = np.array([cdelt1,cdelt2])\n",
    "    w.wcs.equinox = 2000.0"
   ]
  },
  {
   "cell_type": "code",
   "execution_count": 17,
   "metadata": {},
   "outputs": [
    {
     "name": "stderr",
     "output_type": "stream",
     "text": [
      "An exception occurred matching an HDU header to the appropriate HDU type: 'function' object has no attribute 'cards'\n",
      "The HDU will be treated as corrupted.\n"
     ]
    }
   ],
   "source": [
    "    params = np.ma.filled(pdrParamsMasked,0)\n",
    "    newHdu = fits.PrimaryHDU(params, header=w)"
   ]
  },
  {
   "cell_type": "code",
   "execution_count": 38,
   "metadata": {},
   "outputs": [
    {
     "ename": "AttributeError",
     "evalue": "'_CorruptedHDU' object has no attribute 'info'",
     "output_type": "error",
     "traceback": [
      "\u001b[0;31m---------------------------------------------------------------------------\u001b[0m",
      "\u001b[0;31mAttributeError\u001b[0m                            Traceback (most recent call last)",
      "\u001b[0;32m<ipython-input-38-23188c6f9b2b>\u001b[0m in \u001b[0;36m<module>\u001b[0;34m()\u001b[0m\n\u001b[0;32m----> 1\u001b[0;31m \u001b[0mnewHdu\u001b[0m\u001b[0;34m.\u001b[0m\u001b[0minfo\u001b[0m\u001b[0;34m(\u001b[0m\u001b[0;34m)\u001b[0m\u001b[0;34m\u001b[0m\u001b[0m\n\u001b[0m",
      "\u001b[0;31mAttributeError\u001b[0m: '_CorruptedHDU' object has no attribute 'info'"
     ]
    }
   ],
   "source": [
    "newHdu.info()"
   ]
  },
  {
   "cell_type": "code",
   "execution_count": null,
   "metadata": {},
   "outputs": [],
   "source": [
    "    # --------------------------------------- #\n",
    "    # Save the fitted PDR parameters to FITS. #\n",
    "    # --------------------------------------- #\n",
    "    params = np.ma.filled(pdrParamsMasked,0)\n",
    "    newHdu = fits.PrimaryHDU(params, header=self.hdr)\n",
    "    # Create the HDUList (it's just one HDU)\n",
    "    hduList = fits.HDUList([newHdu])\n",
    "    # Save HDUList to new FITS file.\n",
    "    hduList.writeto(saveFile, overwrite=True)"
   ]
  }
 ],
 "metadata": {
  "kernelspec": {
   "display_name": "Python 2",
   "language": "python",
   "name": "python2"
  },
  "language_info": {
   "codemirror_mode": {
    "name": "ipython",
    "version": 2
   },
   "file_extension": ".py",
   "mimetype": "text/x-python",
   "name": "python",
   "nbconvert_exporter": "python",
   "pygments_lexer": "ipython2",
   "version": "2.7.15"
  }
 },
 "nbformat": 4,
 "nbformat_minor": 2
}
