{
 "cells": [
  {
   "cell_type": "code",
   "execution_count": null,
   "metadata": {},
   "outputs": [],
   "source": [
    "\"\"\"\n",
    "    Fit a model cube to 3D data using the Python wrapper pyBBarolo.\n",
    "    \n",
    "\n",
    "    Example:\n",
    "    \n",
    "    path = '/Volumes/QbertPrimary/umdResearch/adapProposalNearby/pySpecKitCube/maybeRun3/3dBarolo_ngc2403/'\n",
    "    fitsFile = path + 'examples/ngc2403.fits'\n",
    "    hdu = fits.open(fitsFile)\n",
    "\n",
    "    f3d = FitMod3D(fitsFile)\n",
    "    f3d.init(radii=np.arange(15,1200,30),xpos=77,ypos=77,vsys=132.8,vrot=120,vdisp=8,vrad=0,z0=10,inc=60,phi=123.7)\n",
    "    f3d.set_options(mask=\"SEARCH\",free=\"VROT VDISP\",wfunc=2,distance=3.2,outfolder=path+'test/')\n",
    "    f3d.set_beam(bmaj=60,bmin=60,bpa=-80)\n",
    "    %timeit bfrings, bestmod = f3d.compute(threads=4)\n",
    "    # Make Plots\n",
    "    f3d.plot_model()\n",
    "\"\"\""
   ]
  },
  {
   "cell_type": "code",
   "execution_count": 1,
   "metadata": {},
   "outputs": [],
   "source": [
    "import os\n",
    "import numpy as np\n",
    "from astropy.io import fits\n",
    "from astropy.wcs import WCS\n",
    "from pyBBarolo import FitMod3D\n",
    "\n",
    "from dictionaryThings import loadDict\n",
    "from functionThings import waveToVel"
   ]
  },
  {
   "cell_type": "code",
   "execution_count": 2,
   "metadata": {},
   "outputs": [],
   "source": [
    "# Size of the interpolated spaxels\n",
    "arcsec = '1arc'\n",
    "# Path to the highest level working directory.\n",
    "topPath = '/Volumes/QbertPrimary/umdResearch/adapProposalNearby/'\n",
    "\n",
    "\n",
    "# --------------------------- #\n",
    "# Build the master dictionary #\n",
    "# --------------------------- #\n",
    "masterDict = dict()\n",
    "dictList = ['objectInfoDict','emiLineDict','ratioDict']\n",
    "for dictName in dictList:\n",
    "    data = loadDict(dictFile= topPath + dictName + '.pkl')\n",
    "    masterDict.setdefault(dictName,data)\n",
    "\n",
    "\n",
    "# -------------------------------------------------- #\n",
    "# Read in the parameter file containing line profile #\n",
    "# velocity limits and continuum fitting information. #\n",
    "# -------------------------------------------------- #\n",
    "paramFile = np.genfromtxt(topPath + 'fittingParametersV4.txt',\n",
    "                          dtype = None, autostrip = True, names = True, encoding=None)\n"
   ]
  },
  {
   "cell_type": "code",
   "execution_count": 3,
   "metadata": {},
   "outputs": [
    {
     "data": {
      "text/plain": [
       "{'1arcScaleBar': '175 pc',\n",
       " 'centerCoo': (148.969687, 69.679383),\n",
       " 'distance': 3.6,\n",
       " 'inclination': 80,\n",
       " 'majorPA': 65,\n",
       " 'redshift': 0.000677}"
      ]
     },
     "execution_count": 3,
     "metadata": {},
     "output_type": "execute_result"
    }
   ],
   "source": [
    "masterDict['objectInfoDict']['m82']"
   ]
  },
  {
   "cell_type": "code",
   "execution_count": 4,
   "metadata": {},
   "outputs": [],
   "source": [
    "for x in range(len(paramFile)):\n",
    "    # Observation info.\n",
    "    objectName =paramFile['objectName'][x]\n",
    "    obsId = paramFile['obsId'][x]\n",
    "\n",
    "    # Galaxy info.\n",
    "    z = masterDict['objectInfoDict'][objectName]['redshift']\n",
    "    raCenter = masterDict['objectInfoDict'][objectName]['centerCoo'][0]\n",
    "    decCenter = masterDict['objectInfoDict'][objectName]['centerCoo'][1]\n",
    "    inc = masterDict['objectInfoDict'][objectName]['inclination']\n",
    "    majorPA = masterDict['objectInfoDict'][objectName]['majorPA']\n",
    "    distance = masterDict['objectInfoDict'][objectName]['distance']\n",
    "\n",
    "    # Line info.\n",
    "    lineName = paramFile['lineNameShort'][x]\n",
    "    restWave = masterDict['emiLineDict'][lineName]['restWave']\n",
    "    # Line wavelength at the systemic velocity.\n",
    "    sysWave = (1.+z)*restWave\n",
    "\n",
    "    # Base for the object's file names.\n",
    "    objectNameBase = str(obsId) + '_' + objectName + '_' + lineName\n",
    "    \n",
    "    # Directory to save 3dBarolo outputs.\n",
    "    savePath = topPath + 'pySpecKitCube/maybeRun3/'+objectName+'/'+arcsec+'/3dbarolo/'+lineName+'/'\n",
    "    if (not os.path.exists(savePath)):os.makedirs(savePath)\n",
    "\n",
    "    break"
   ]
  },
  {
   "cell_type": "code",
   "execution_count": 5,
   "metadata": {},
   "outputs": [
    {
     "name": "stderr",
     "output_type": "stream",
     "text": [
      "WARNING: FITSFixedWarning: 'unitfix' made the change 'Changed units: 'KM/S' -> 'km/S''. [astropy.wcs.wcs]\n"
     ]
    }
   ],
   "source": [
    "    fitsFile = (topPath + 'pySpecKitCube/maybeRun3/'+objectName+'/'+arcsec+\n",
    "               '/3dbarolo/fits/'+objectNameBase+'_hdrEditVel.fits')\n",
    "    hdu = fits.open(fitsFile)\n",
    "    hdr = hdu[0].header\n",
    "\n",
    "    w = WCS(hdr).celestial\n",
    "    xPos, yPos = w.wcs_world2pix(raCenter, decCenter, 1)\n",
    "    vSys = int(waveToVel(sysWave, restWave))\n",
    "    z0 = 8"
   ]
  },
  {
   "cell_type": "code",
   "execution_count": 6,
   "metadata": {},
   "outputs": [],
   "source": [
    "    f3d = FitMod3D(fitsFile)\n",
    "\n",
    "    f3d.init(radii = np.arange(2,20,2),\n",
    "             xpos = int(xPos),\n",
    "             ypos = int(yPos),\n",
    "             vsys = vSys,\n",
    "             vrot = 120,\n",
    "             vdisp = 8,\n",
    "             vrad = 0,\n",
    "             z0 = 8,\n",
    "             inc = inc,\n",
    "             phi = majorPA)\n",
    "\n",
    "    f3d.set_options(mask = 'SEARCH',\n",
    "                    free = \"VROT VDISP\",\n",
    "                    wfunc = 1,\n",
    "                    distance = distance,\n",
    "                    outfolder = savePath)\n",
    "\n",
    "    f3d.set_beam(bmaj=10,bmin=10,bpa=110)"
   ]
  },
  {
   "cell_type": "code",
   "execution_count": 7,
   "metadata": {},
   "outputs": [
    {
     "name": "stdout",
     "output_type": "stream",
     "text": [
      "\n",
      "Current options for 3DFIT task: -------------------------------------- \n",
      " ltype        = 2          # Layer type along z  \n",
      " restwave     = -1.0       # Rest wavelenght of observed line  \n",
      " redshift     = -1.0       # Redshift of the galaxy  \n",
      " smooth       = True       # If false, disable smoothing  \n",
      " norm         = LOCAL      # Normalization type  \n",
      " cdens        = 10         # Surface density of clouds in a ring (1E20)  \n",
      " deltaphi     = 15.0       # Position angle variation (degrees)  \n",
      " twostage     = True       # Regularize and fit a second model  \n",
      " free         = VROT VDISP # Free parameters  \n",
      " outfolder    = /Volumes/QbertPrimary/umdResearch/adapProposalNearby/pySpecKitCube/maybeRun3/m82/1arc/3dbarolo/oiii88/ # Directory for outputs  \n",
      " distance     = 3.6        # Distance of the galaxy in Mpc  \n",
      " errors       = False      # Whether estimating errors  \n",
      " wfunc        = 1          # Weighting function for major axis  \n",
      " mask         = SEARCH     # Mask type  \n",
      " startrad     = 0          # Starting radius  \n",
      " side         = B          # Which side of the galaxy to fit  \n",
      " deltainc     = 5.0        # Inclination angle variation (degrees)  \n",
      " ftype        = 2          # Residual function to minimize  \n",
      " polyn        = bezier     # Type of regularization  \n",
      " tol          = 0.001      # Tolerance for minimization.  \n",
      " bweight      = 1          # Weighting function for Blank pixels  \n",
      " nv           = -1         # Number of subclouds per profile  \n",
      "\n",
      " BEAM = 9.7200 x 9.7200 arcs (BPA = 109.8502 deg)\n",
      "----------------------------------------------------------------------\n",
      "\n"
     ]
    }
   ],
   "source": [
    "f3d.show_options()"
   ]
  },
  {
   "cell_type": "code",
   "execution_count": 8,
   "metadata": {},
   "outputs": [
    {
     "name": "stdout",
     "output_type": "stream",
     "text": [
      "m82 oiii88\n"
     ]
    }
   ],
   "source": [
    "    bfrings, bestmod = f3d.compute(threads=4)\n",
    "    \n",
    "    print objectName, lineName"
   ]
  },
  {
   "cell_type": "code",
   "execution_count": 9,
   "metadata": {},
   "outputs": [
    {
     "name": "stdout",
     "output_type": "stream",
     "text": [
      " Writing creative plots... Done.\n"
     ]
    }
   ],
   "source": [
    "    f3d.plot_model()"
   ]
  }
 ],
 "metadata": {
  "kernelspec": {
   "display_name": "Python 2",
   "language": "python",
   "name": "python2"
  },
  "language_info": {
   "codemirror_mode": {
    "name": "ipython",
    "version": 2
   },
   "file_extension": ".py",
   "mimetype": "text/x-python",
   "name": "python",
   "nbconvert_exporter": "python",
   "pygments_lexer": "ipython2",
   "version": "2.7.15"
  }
 },
 "nbformat": 4,
 "nbformat_minor": 2
}
