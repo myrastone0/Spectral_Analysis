{
 "cells": [
  {
   "cell_type": "code",
   "execution_count": 3,
   "metadata": {},
   "outputs": [],
   "source": [
    "\"\"\"\n",
    "Probably gonna need to update this in future.\n",
    "\"\"\"\n",
    "\n",
    "objectInfoDict={'m82'     :{'redshift'    :0.000677,\n",
    "                            'centerCoo'   :(148.9667,69.6794),\n",
    "                            '1arcScaleBar':'17.5 pc',\n",
    "                            'inclination' : 81,\n",
    "                            'majorPA'     : 65,\n",
    "                            'distance'    : 3.6},\n",
    "                'cenA'    :{'redshift'    :0.001825,\n",
    "                            'centerCoo'   :(201.3650633,-43.0191125),\n",
    "                            '1arcScaleBar':'18.4 pc',\n",
    "                            'inclination' : 75,\n",
    "                            'majorPA'     : 278,\n",
    "                            'distance'    : 3.8},\n",
    "                'circinus':{'redshift'    :0.001448,\n",
    "                            'centerCoo'   :(213.29147083,-65.33921861),\n",
    "                            '1arcScaleBar':'20.4 pc',\n",
    "                            'inclination' : 65,\n",
    "                            'majorPA'     : 216,\n",
    "                            'distance'    : 4.2},\n",
    "                'ngc253'  :{'redshift'    :0.000811,\n",
    "                            'centerCoo'   :(11.888002,-25.288220),\n",
    "                            '1arcScaleBar':'18.9 pc',\n",
    "                            'inclination' : 76,\n",
    "                            'majorPA'     : 230,\n",
    "                            'distance'    : 3.9},\n",
    "                'ngc1068' :{'redshift'    :0.003793,\n",
    "                            'centerCoo'   :(40.6696292,-0.0132806),\n",
    "                            '1arcScaleBar':'69.8 pc',\n",
    "                            'inclination' : 40,\n",
    "                            'majorPA'     : 278,\n",
    "                            'distance'    : 14.4},\n",
    "                'ngc3079' :{'redshift'    :0.003723,\n",
    "                            'centerCoo'   :(150.4908475, 55.6797894),\n",
    "                            '1arcScaleBar':'77.6 pc',\n",
    "                            'inclination' : 84,\n",
    "                            'majorPA'     : 166,\n",
    "                            'distance'    : 16},\n",
    "                'ngc4945' :{'redshift'    :0.001878,\n",
    "                            'centerCoo'   :(196.3644897,-49.4682129),\n",
    "                            '1arcScaleBar':'18.4 pc',\n",
    "                            'inclination' : 75,\n",
    "                            'majorPA'     : 45,\n",
    "                            'distance'    : 3.8},\n",
    "                'ngc6240' :{'redshift'    :0.024480,\n",
    "                            'centerCoo'   :(253.245295,2.400926),\n",
    "                            '1arcScaleBar':'712.7 pc',\n",
    "                            'inclination' : '?',\n",
    "                            'majorPA'     : '?',\n",
    "                            'distance'    : 147}\n",
    "               }\n",
    "\n",
    "from dictionaryThings import saveDict\n",
    "saveDict(dictionary=objectInfoDict,saveName='/Volumes/QbertPrimary/umdResearch/adapProposalNearby/objectInfoDict.pkl')"
   ]
  },
  {
   "cell_type": "code",
   "execution_count": null,
   "metadata": {},
   "outputs": [],
   "source": [
    "\"\"\"\n",
    "    This is a script which utilizes the ObsInfo class.\n",
    "\n",
    "    Create an instance of ObsInfo using data and parameters from a single Herschel\n",
    "    observation. Compute the reference velocity for the spectral axis, \n",
    "    update FITS header keywords, and save to new FITS file.\n",
    "    \n",
    "    Create the params.txt input file for BBarolo.\n",
    "\"\"\""
   ]
  },
  {
   "cell_type": "code",
   "execution_count": 1,
   "metadata": {},
   "outputs": [],
   "source": [
    "%load_ext autoreload\n",
    "%autoreload 2"
   ]
  },
  {
   "cell_type": "code",
   "execution_count": 1,
   "metadata": {},
   "outputs": [],
   "source": [
    "# Standard\n",
    "import os\n",
    "import numpy as np\n",
    "# Related\n",
    "from astropy.wcs import WCS\n",
    "# Local\n",
    "from ObsInfo import ObsInfo\n",
    "from dictionaryThings import loadDict\n",
    "from functionThings import waveToVel"
   ]
  },
  {
   "cell_type": "code",
   "execution_count": 2,
   "metadata": {},
   "outputs": [],
   "source": [
    "# Spaxel size\n",
    "arcsec = '1arc'\n",
    "\n",
    "# Which program will be reading the output FITS file?\n",
    "program = '3dBarolo'\n",
    "#program = 'kpvslice'\n",
    "\n",
    "# Use the fitted model fluxes?\n",
    "model= True\n",
    "\n",
    "topPath = '/Volumes/QbertPrimary/umdResearch/adapProposalNearby/'\n",
    "\n",
    "\n",
    "# ----------------------------------------- #\n",
    "# Necessary parameter file and dictionaries #\n",
    "# ----------------------------------------- #\n",
    "# Dictionary of galaxy properties\n",
    "objDictName = topPath+'objectInfoDict.pkl'\n",
    "# Dictionary of emission line properties.\n",
    "lineDict = loadDict(topPath+'emiLineDict.pkl')\n",
    "# Text file of line fitting parameters.\n",
    "paramFileName = topPath + 'fittingParametersV4.txt'\n",
    "\n",
    "\n",
    "# -------------------------------------------------- #\n",
    "# Read in the parameter file containing line profile #\n",
    "# velocity limits and continuum fitting information. #\n",
    "# -------------------------------------------------- #\n",
    "paramFileData = np.genfromtxt(paramFileName, dtype=None, autostrip=True,\n",
    "                              names=True, encoding=None)"
   ]
  },
  {
   "cell_type": "code",
   "execution_count": 3,
   "metadata": {},
   "outputs": [
    {
     "name": "stdout",
     "output_type": "stream",
     "text": [
      "ngc1068 oiii88 1arc\n"
     ]
    },
    {
     "name": "stderr",
     "output_type": "stream",
     "text": [
      "WARNING: FITSFixedWarning: 'unitfix' made the change 'Changed units: 'KM/S' -> 'km/S''. [astropy.wcs.wcs]\n"
     ]
    }
   ],
   "source": [
    "for x in range(len(paramFileData)):\n",
    "    # ------------------------------------ #\n",
    "    # Get the galaxy and line information. #\n",
    "    # ------------------------------------ #\n",
    "    obsInfo = ObsInfo(x, paramFileName, objDictName)\n",
    "    \n",
    "    # Name of the emission line.\n",
    "    lineName = paramFileData['lineNameShort'][x]\n",
    "    # Rest wavelength of the emission line.\n",
    "    restWave = lineDict[lineName]['restWave']\n",
    "    sysWave = (1.+obsInfo.z)*restWave\n",
    "    # Spatial resolution at line wavelength\n",
    "    spatRes = lineDict[lineName]['spatRes']\n",
    "\n",
    "\n",
    "    # ----------------------------------------- #\n",
    "    # Create the base names for saving outputs. #\n",
    "    # ----------------------------------------- #\n",
    "    # Base for the object's file names.\n",
    "    objectNameBase = (str(obsInfo.obsId)+'_'+obsInfo.objectName\n",
    "                      +'_'+lineName)\n",
    "    \n",
    "    # Base path to the object's folders.\n",
    "    objectPathBase = (topPath+'pySpecKitCube/run4/'+obsInfo.objectName\n",
    "                          +'/'+arcsec+'/'+program+'/')\n",
    "    if (not os.path.exists(objectPathBase)):os.makedirs(objectPathBase)\n",
    "\n",
    "\n",
    "\n",
    "    # -------------------------------------------------------------- #\n",
    "    # Find the minimum velocity of the spectral axis.                #\n",
    "    # This will be set as the reference velocity in the FITS header. #\n",
    "    # -------------------------------------------------------------- #\n",
    "#     fitsFile = (topPath+'pySpecKitCube/run4/'+obsInfo.objectName+'/'\n",
    "#                 +arcsec+'/outFitsFiles2/'+objectNameBase+'.fits')\n",
    "    fitsFile = (topPath+'pySpecKitCube/run4/'+obsInfo.objectName+'/'\n",
    "                +arcsec+'/outFitsFiles2/'+objectNameBase+'_cleaned.fits')\n",
    "\n",
    "    if program == 'kpvslice':\n",
    "        velCorr = True\n",
    "        cunit3 = 'kms'\n",
    "    if program == '3dBarolo':\n",
    "        velCorr = False\n",
    "        cunit3 = 'KM/S'\n",
    "\n",
    "    obsInfo.computeVels(fitsFile, restWave, velCorr=velCorr)\n",
    "\n",
    "\n",
    "    # ----------------------------------------------------- #\n",
    "    # Update/add spectral axis keywords in the FITS header. #\n",
    "    # Also add beamsize information.                        #\n",
    "    # ----------------------------------------------------- #\n",
    "    if model != True:\n",
    "        fitsSavePath = objectPathBase + 'inFits/'\n",
    "        fluxStr = 'contSubFluxes'\n",
    "    else:\n",
    "        fitsSavePath = objectPathBase + 'modelInFits/'\n",
    "        if obsInfo.objectName == 'ngc1068':\n",
    "            fluxStr = 'modelFluxesClean'\n",
    "        else:\n",
    "            fluxStr = 'modelFluxes'\n",
    "    if (not os.path.exists(fitsSavePath)):os.makedirs(fitsSavePath)\n",
    "    \n",
    "    fitsSaveName = fitsSavePath+objectNameBase+'_hdrEditVel.fits'\n",
    "    \n",
    "    obsInfo.updateHdr(fitsFile, restWave, beamSize=spatRes, \n",
    "                      saveFile=fitsSaveName, cunit3=cunit3, flux=fluxStr)\n",
    "\n",
    "\n",
    "    if program == '3dBarolo':\n",
    "        # --------------------------- #\n",
    "        # Parameters for barolo input #\n",
    "        # --------------------------- #\n",
    "        raCenter, decCenter = obsInfo.raCenter, obsInfo.decCenter\n",
    "        w = WCS(obsInfo.hdr).celestial\n",
    "        xPos, yPos = w.wcs_world2pix(raCenter, decCenter, 1)\n",
    "        vSys = int(waveToVel(sysWave, restWave))\n",
    "\n",
    "        resWidth = lineDict[lineName]['specRes'] / obsInfo.hdr['CDELT3']\n",
    "        linear = resWidth / 2.355\n",
    "\n",
    "        # ------------------------ #\n",
    "        # Save BBarolo parameters. #\n",
    "        # ------------------------ #\n",
    "        paramFilePath = objectPathBase + lineName + '/'\n",
    "        if (not os.path.exists(paramFilePath)):os.makedirs(paramFilePath)\n",
    "\n",
    "        outFile = open(paramFilePath + 'params.txt', 'w')\n",
    "        outFile.write('FITSFILE    ' + fitsSaveName + '\\n'+\n",
    "                      'OUTFOLDER   ' + objectPathBase + lineName + '/\\n'+\n",
    "                      '{0:<10s}'.format('THREADS') + '{0:<8s}'.format('4') +'\\n'+\n",
    "                      '{0:<10s}'.format('BEAMFWHM') + '{0:<8s}'.format(str(spatRes)) +'\\n'+\n",
    "                      '{0:<10s}'.format('GALFIT') + '{0:<8s}'.format('TRUE') +'\\n'+\n",
    "                      '{0:<10s}'.format('NRADII') + '{0:<8s}'.format('5') +'\\n'+\n",
    "                      '{0:<10s}'.format('RADSEP') + '{0:<8s}'.format('4') +'\\n'+\n",
    "                      '{0:<10s}'.format('VSYS') + '{0:<8s}'.format(str(vSys)) +'\\n'+\n",
    "                      '{0:<10s}'.format('XPOS') + '{0:<8s}'.format(str(int(xPos))) +'\\n'+\n",
    "                      '{0:<10s}'.format('YPOS') + '{0:<8s}'.format(str(int(yPos))) +'\\n'+\n",
    "                      '{0:<10s}'.format('VROT') + '{0:<8s}'.format('60') +'\\n'+\n",
    "                      '{0:<10s}'.format('VDISP') + '{0:<8s}'.format('100') +'\\n'+\n",
    "                      '{0:<10s}'.format('INC') + '{0:<8s}'.format(str(obsInfo.inc)) +'\\n'+\n",
    "                      '{0:<10s}'.format('PA') + '{0:<8s}'.format(str(obsInfo.majorPA)) +'\\n'+\n",
    "                      '{0:<10s}'.format('DELTAPA') + '{0:<8s}'.format('10') +'\\n'+\n",
    "                      '{0:<10s}'.format('Z0') + '{0:<8s}'.format('2') +'\\n'+\n",
    "                      '{0:<10s}'.format('FREE') + '{0:<8s}'.format('VROT VDISP PA') +'\\n'+\n",
    "                      '{0:<10s}'.format('NORM') + '{0:<8s}'.format('LOCAL') +'\\n'+\n",
    "                      '{0:<10s}'.format('MASK') + '{0:<8s}'.format('SEARCH') +'\\n'+\n",
    "                      '{0:<10s}'.format('THRESHOLD') + '{0:<8s}'.format('0.01') +'\\n'+\n",
    "                      '{0:<10s}'.format('LTYPE') + '{0:<8s}'.format('1') +'\\n'+\n",
    "                      '{0:<10s}'.format('FTYPE') + '{0:<8s}'.format('1') +'\\n'+\n",
    "                      '{0:<10s}'.format('DISTANCE') + '{0:<8s}'.format(str(obsInfo.distance)) +'\\n'+\n",
    "                      '{0:<10s}'.format('BWEIGHT') + '{0:<8s}'.format('1') +'\\n'+\n",
    "                      '{0:<10s}'.format('WFUNC') + '{0:<8s}'.format('2') +'\\n'+\n",
    "                      '{0:<10s}'.format('LINEAR') + '{0:<8s}'.format(str(linear)) +'\\n'+\n",
    "                      '{0:<10s}'.format('TWOSTAGE') + '{0:<8s}'.format('TRUE') +'\\n'+\n",
    "                      '{0:<10s}'.format('STARTRAD') + '{0:<8s}'.format('0') +'\\n'+\n",
    "                      '\\n')\n",
    "        outFile.close()\n",
    "\n",
    "    print obsInfo.objectName, lineName, arcsec\n",
    "    break"
   ]
  },
  {
   "cell_type": "code",
   "execution_count": 8,
   "metadata": {},
   "outputs": [],
   "source": [
    "from scipy.stats import moment"
   ]
  },
  {
   "cell_type": "code",
   "execution_count": null,
   "metadata": {},
   "outputs": [],
   "source": []
  },
  {
   "cell_type": "code",
   "execution_count": 79,
   "metadata": {},
   "outputs": [],
   "source": [
    "fluxes = np.ma.masked_invalid(h['contSubFluxes'].data)"
   ]
  },
  {
   "cell_type": "code",
   "execution_count": 80,
   "metadata": {},
   "outputs": [],
   "source": [
    "fluxMasked = np.ma.masked_where(fluxes==0, fluxes)\n",
    "mom0 = moment(fluxMasked,moment=0)\n",
    "mom0Masked = np.ma.masked_where(mom0==0.,mom0)"
   ]
  },
  {
   "cell_type": "code",
   "execution_count": 78,
   "metadata": {},
   "outputs": [
    {
     "data": {
      "image/png": "[encoded data removed]",
      "text/plain": [
       "<Figure size 432x288 with 2 Axes>"
      ]
     },
     "metadata": {},
     "output_type": "display_data"
    }
   ],
   "source": [
    "import matplotlib\n",
    "import matplotlib.pyplot as plt\n",
    "fig = plt.figure(facecolor='white')\n",
    "ax = fig.add_subplot(111)\n",
    "cmap = matplotlib.cm.jet\n",
    "im = ax.imshow(mom0Masked,cmap=cmap)\n",
    "fig.colorbar(im)\n",
    "plt.show()"
   ]
  },
  {
   "cell_type": "code",
   "execution_count": 87,
   "metadata": {},
   "outputs": [],
   "source": [
    "res = fluxMasked - np.mean(fluxMasked,axis=0)"
   ]
  },
  {
   "cell_type": "code",
   "execution_count": 96,
   "metadata": {},
   "outputs": [
    {
     "data": {
      "text/plain": [
       "(241, 72, 70)"
      ]
     },
     "execution_count": 96,
     "metadata": {},
     "output_type": "execute_result"
    }
   ],
   "source": [
    "res.shape"
   ]
  },
  {
   "cell_type": "code",
   "execution_count": 108,
   "metadata": {},
   "outputs": [],
   "source": [
    "mom2 = np.sum(res**2.,axis=0) / len(fluxMasked)"
   ]
  },
  {
   "cell_type": "code",
   "execution_count": 106,
   "metadata": {},
   "outputs": [],
   "source": [
    "mom1 = np.mean(fluxMasked,axis=0)"
   ]
  },
  {
   "cell_type": "code",
   "execution_count": 111,
   "metadata": {},
   "outputs": [
    {
     "data": {
      "image/png": "[encoded data removed]",
      "text/plain": [
       "<Figure size 432x288 with 2 Axes>"
      ]
     },
     "metadata": {},
     "output_type": "display_data"
    }
   ],
   "source": [
    "import matplotlib\n",
    "import matplotlib.pyplot as plt\n",
    "fig = plt.figure(facecolor='white')\n",
    "ax = fig.add_subplot(111)\n",
    "cmap = matplotlib.cm.jet\n",
    "im = ax.imshow(mom1,cmap=cmap)\n",
    "fig.colorbar(im)\n",
    "ax.invert_yaxis()\n",
    "plt.show()"
   ]
  },
  {
   "cell_type": "code",
   "execution_count": 21,
   "metadata": {},
   "outputs": [],
   "source": [
    "from astropy.io import fits\n",
    "modF = objectPathBase + 'modelInFits/'+objectNameBase+'_hdrEditVel.fits'\n",
    "datF = objectPathBase + 'inFits/'+objectNameBase+'_hdrEditVel.fits'\n",
    "\n",
    "col,row = 25,25\n",
    "mod = fits.open(modF)['image'].data[:,col,row]\n",
    "dat = fits.open(datF)['image'].data[:,col,row]\n",
    "\n",
    "x = fits.open(fitsFile)['zCorrVels'].data"
   ]
  },
  {
   "cell_type": "code",
   "execution_count": 22,
   "metadata": {},
   "outputs": [
    {
     "data": {
      "text/plain": [
       "[<matplotlib.lines.Line2D at 0x113eebd50>]"
      ]
     },
     "execution_count": 22,
     "metadata": {},
     "output_type": "execute_result"
    },
    {
     "data": {
      "image/png": "[encoded data removed]",
      "text/plain": [
       "<Figure size 432x288 with 1 Axes>"
      ]
     },
     "metadata": {},
     "output_type": "display_data"
    }
   ],
   "source": [
    "import matplotlib.pyplot as plt\n",
    "fig = plt.figure(facecolor='white')\n",
    "ax = fig.add_subplot(111)\n",
    "ax.plot(x,mod)\n",
    "ax.plot(x,dat)"
   ]
  },
  {
   "cell_type": "code",
   "execution_count": 23,
   "metadata": {},
   "outputs": [],
   "source": [
    "from astropy.io import fits\n",
    "a = '/Volumes/QbertPrimary/umdResearch/adapProposalNearby/pySpecKitCube/run4/ngc253/1arc/3dBarolo/modelInFits/1342199415_ngc253_cii158_hdrEditVel.fits'\n",
    "h = fits.open(a)\n",
    "\n",
    "b = '/Volumes/QbertPrimary/umdResearch/adapProposalNearby/pySpecKitCube/run4/ngc253/1arc/3dBarolo/inFits/1342199415_ngc253_cii158_hdrEditVel.fits'\n",
    "hb = fits.open(b)"
   ]
  },
  {
   "cell_type": "code",
   "execution_count": 25,
   "metadata": {},
   "outputs": [
    {
     "name": "stdout",
     "output_type": "stream",
     "text": [
      "Filename: /Volumes/QbertPrimary/umdResearch/adapProposalNearby/pySpecKitCube/run4/ngc253/1arc/3dBarolo/modelInFits/1342199415_ngc253_cii158_hdrEditVel.fits\n",
      "No.    Name      Ver    Type      Cards   Dimensions   Format\n",
      "  0  image         1 PrimaryHDU      70   (68, 64, 2002)   float32   \n"
     ]
    }
   ],
   "source": [
    "h.info()"
   ]
  },
  {
   "cell_type": "code",
   "execution_count": 26,
   "metadata": {},
   "outputs": [
    {
     "data": {
      "text/plain": [
       "SIMPLE  =                    T / conforms to FITS standard                      \n",
       "BITPIX  =                  -32 / array data type                                \n",
       "NAXIS   =                    3 / number of array dimensions                     \n",
       "NAXIS1  =                   68                                                  \n",
       "NAXIS2  =                   64                                                  \n",
       "NAXIS3  =                 2002                                                  \n",
       "LONGSTRN= 'OGIP 1.0'           / The OGIP long string convention may be used.   \n",
       "COMMENT This FITS file may contain long string keyword values that are          \n",
       "COMMENT continued over multiple keywords.  This convention uses the  '&'        \n",
       "COMMENT character at the end of a string which is then continued                \n",
       "COMMENT on subsequent keywords whose name = 'CONTINUE'.                         \n",
       "         -------------- Herschel Structure Data--------------------             \n",
       "         Following fields are private to the structure of the                   \n",
       "         Java object this HDU is representing.                                  \n",
       "EXTNAME = 'image   '           / name of this HDU                               \n",
       "CLASS___= 'herschel.ia.dataset.ArrayDataset' / java representation              \n",
       "INFO____= 'Flux    '                                                            \n",
       "DATA____= 'herschel.ia.numeric.Double3d' / java Data                            \n",
       "QTTY____= 'Jy/pixel'           / Unit of the data                               \n",
       "BUNIT   = 'Jy/pixel'           / Unit of the data                               \n",
       "         -------------- Herschel Parameter Data--------------------             \n",
       "         All actual parameter names are converted to FITS compliant             \n",
       "         conventions. Note that the HIERARCH comments contain the               \n",
       "         appropriate key mapping                                                \n",
       "                                                                                \n",
       "        / WORLD COORDINATE SYSTEM AND RELATED PARAMETERS                        \n",
       "                                                                                \n",
       "CRPIX1  =                  1.0 / [] WCS: Reference pixel position axis 1        \n",
       "CRPIX2  =                  1.0 / [] WCS: Reference pixel position axis 2        \n",
       "CRPIX3  =                  1.0 / [] WCS: Reference layer index                  \n",
       "CRVAL1  =   11.897784181681837 / [] WCS: First coordinate of reference pixel    \n",
       "CRVAL2  =    -25.2970287476804 / [] WCS: Second coordinate of reference pixel   \n",
       "CRVAL3  =   -755.2915613787878 / [] WCS: Wavelength, time, ... of layer         \n",
       "CDELT1  = -0.00027777777777778 / [] WCS: Pixel scale axis 1, unit=Angle         \n",
       "CDELT2  = 2.777777777777778E-4 / [] WCS: Pixel scale axis 2, unit=Angle         \n",
       "CDELT3  =    10.46821045454154 / [] WCS: Scale in 3rd dimension                 \n",
       "CTYPE1  = 'RA---TAN'           / WCS: Projection type axis 1, default=\"LINEAR\"  \n",
       "CTYPE2  = 'DEC--TAN'           / WCS: Projection type axis 2, default=\"LINEAR\"  \n",
       "CTYPE3  = 'VEL     '           / WCS: Description of the 3rd axis               \n",
       "CUNIT1  = 'deg     '           / WCS: Unit axis 1, default=\"\"                   \n",
       "CUNIT2  = 'deg     '           / WCS: Unit axis 2, default=\"\"                   \n",
       "CUNIT3  = 'KM/S    '           / WCS: Unit axis 3, default=\"\"                   \n",
       "                                                                                \n",
       "        / SPECTRAL INFORMATION                                                  \n",
       "                                                                                \n",
       "PS3_0   = 'wcs-tab '           / The name of the ImageIndex column              \n",
       "PS3_1   = 'wavelen '           / The wavelength column                          \n",
       "PS3_2   = 'layer   '           / The index column                               \n",
       "                                                                                \n",
       "                                                                                \n",
       "HIERARCH  key.CRPIX1='crpix1'                                                   \n",
       "HIERARCH  key.CRPIX2='crpix2'                                                   \n",
       "HIERARCH  key.CRVAL1='crval1'                                                   \n",
       "HIERARCH  key.CRVAL2='crval2'                                                   \n",
       "HIERARCH  key.CDELT1='cdelt1'                                                   \n",
       "HIERARCH  key.CDELT2='cdelt2'                                                   \n",
       "HIERARCH  key.CTYPE1='ctype1'                                                   \n",
       "HIERARCH  key.CTYPE2='ctype2'                                                   \n",
       "HIERARCH  key.CUNIT1='cunit1'                                                   \n",
       "HIERARCH  key.CUNIT2='cunit2'                                                   \n",
       "HIERARCH  key.PS3_0='ps3_0'                                                     \n",
       "HIERARCH  key.PS3_1='ps3_1'                                                     \n",
       "HIERARCH  key.PS3_2='ps3_2'                                                     \n",
       "HIERARCH  key.CUNIT3='cunit3'                                                   \n",
       "HIERARCH  key.CRPIX3='crpix3'                                                   \n",
       "HIERARCH  key.CRVAL3='crval3'                                                   \n",
       "HIERARCH  key.CTYPE3='ctype3'                                                   \n",
       "HIERARCH  key.CDELT3='cdelt3'                                                   \n",
       "BEAMFWHM=                 11.5                                                  \n",
       "OBJECT  = 'ngc253  '                                                            "
      ]
     },
     "execution_count": 26,
     "metadata": {},
     "output_type": "execute_result"
    }
   ],
   "source": [
    "h[0].header"
   ]
  },
  {
   "cell_type": "code",
   "execution_count": null,
   "metadata": {},
   "outputs": [],
   "source": []
  }
 ],
 "metadata": {
  "kernelspec": {
   "display_name": "Python 2",
   "language": "python",
   "name": "python2"
  },
  "language_info": {
   "codemirror_mode": {
    "name": "ipython",
    "version": 2
   },
   "file_extension": ".py",
   "mimetype": "text/x-python",
   "name": "python",
   "nbconvert_exporter": "python",
   "pygments_lexer": "ipython2",
   "version": "2.7.15"
  }
 },
 "nbformat": 4,
 "nbformat_minor": 2
}
