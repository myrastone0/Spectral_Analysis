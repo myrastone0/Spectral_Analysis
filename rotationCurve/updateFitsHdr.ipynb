{
 "cells": [
  {
   "cell_type": "code",
   "execution_count": null,
   "metadata": {},
   "outputs": [],
   "source": [
    "\"\"\"\n",
    "    This is a script which utilizes the ObsInfo class.\n",
    "\n",
    "    Create an instance of ObsInfo using data and parameters from a single Herschel\n",
    "    observation. Compute the reference velocity for the spectral axis, \n",
    "    update FITS header keywords, and save to new FITS file.\n",
    "\"\"\""
   ]
  },
  {
   "cell_type": "code",
   "execution_count": 1,
   "metadata": {},
   "outputs": [],
   "source": [
    "%load_ext autoreload\n",
    "%autoreload 2"
   ]
  },
  {
   "cell_type": "code",
   "execution_count": 2,
   "metadata": {},
   "outputs": [],
   "source": [
    "# Standard\n",
    "import os\n",
    "import numpy as np\n",
    "\n",
    "# Local\n",
    "from ObsInfo import ObsInfo\n",
    "from dictionaryThings import loadDict"
   ]
  },
  {
   "cell_type": "code",
   "execution_count": 3,
   "metadata": {},
   "outputs": [],
   "source": [
    "# Which program will be reading the output FITS file?\n",
    "program = '3dBarolo'\n",
    "\n",
    "topPath = '/Volumes/QbertPrimary/umdResearch/adapProposalNearby/'\n",
    "\n",
    "\n",
    "# ----------------------------------------- #\n",
    "# Necessary parameter file and dictionaries #\n",
    "# ----------------------------------------- #\n",
    "# Dictionary of galaxy properties\n",
    "objDictName = topPath+'objectInfoDict.pkl'\n",
    "# Dictionary of emission line properties.\n",
    "lineDict = loadDict(topPath+'emiLineDict.pkl')\n",
    "# Text file of line fitting parameters.\n",
    "paramFileName = topPath + 'fittingParametersV4.txt'\n",
    "\n",
    "\n",
    "# -------------------------------------------------- #\n",
    "# Read in the parameter file containing line profile #\n",
    "# velocity limits and continuum fitting information. #\n",
    "# -------------------------------------------------- #\n",
    "paramFileData = np.genfromtxt(paramFileName, dtype=None, autostrip=True,\n",
    "                              names=True, encoding=None)"
   ]
  },
  {
   "cell_type": "code",
   "execution_count": 4,
   "metadata": {},
   "outputs": [],
   "source": [
    "for x in range(len(paramFileData)):\n",
    "    # ------------------------------------ #\n",
    "    # Get the galaxy and line information. #\n",
    "    # ------------------------------------ #\n",
    "    obsInfo = ObsInfo(x, paramFileName, objDictName)\n",
    "    \n",
    "    # Name of the emission line.\n",
    "    lineName = paramFileData['lineNameShort'][x]\n",
    "    # Rest wavelength of the emission line.\n",
    "    restWave = lineDict[lineName]['restWave']\n",
    "\n",
    "\n",
    "    # ----------------------------------------- #\n",
    "    # Create the base names for saving outputs. #\n",
    "    # ----------------------------------------- #\n",
    "    # Base for the object's file names.\n",
    "    objectNameBase = (str(obsInfo.obsId)+'_'+obsInfo.objectName\n",
    "                      +'_'+lineName)\n",
    "    \n",
    "    # Base path to the object's folders.\n",
    "    objectPathBase = (topPath+'pySpecKitCube/maybeRun3/'+obsInfo.objectName\n",
    "                          +'/1arc/'+program+'/')\n",
    "\n",
    "\n",
    "    # -------------------------------------------------------------- #\n",
    "    # Find the minimum velocity of the spectral axis.                #\n",
    "    # This will be set as the reference velocity in the FITS header. #\n",
    "    # -------------------------------------------------------------- #\n",
    "    fitsFile = (topPath+'pySpecKitCube/'+obsInfo.objectName+'/1arc'\n",
    "                        +'/instrCorrect/fits/'+objectNameBase\n",
    "                        +'_clean_correct_contFlux.fits')\n",
    "\n",
    "    if program == 'kpvslice':\n",
    "        velCorr = True\n",
    "    if program == '3dBarolo':\n",
    "        velCorr = False\n",
    "\n",
    "    obsInfo.findRefVel(fitsFile, restWave, velCorr=velCorr)\n",
    "\n",
    "\n",
    "    # ----------------------------------------------------- #\n",
    "    # Update/add spectral axis keywords in the FITS header. #\n",
    "    # Also add beamsize information.                        #\n",
    "    # ----------------------------------------------------- #\n",
    "    fitsSavePath = objectPathBase + 'fits/'\n",
    "    if (not os.path.exists(fitsSavePath)):os.makedirs(fitsSavePath)\n",
    "    \n",
    "    fitsSaveName = fitsSavePath+objectNameBase+'_hdrEditVel.fits'\n",
    "    \n",
    "    obsInfo.updateHdr(fitsFile, restWave, saveFile=fitsSaveName)\n",
    "\n",
    "\n",
    "    break"
   ]
  },
  {
   "cell_type": "code",
   "execution_count": null,
   "metadata": {},
   "outputs": [],
   "source": []
  }
 ],
 "metadata": {
  "kernelspec": {
   "display_name": "Python 2",
   "language": "python",
   "name": "python2"
  },
  "language_info": {
   "codemirror_mode": {
    "name": "ipython",
    "version": 2
   },
   "file_extension": ".py",
   "mimetype": "text/x-python",
   "name": "python",
   "nbconvert_exporter": "python",
   "pygments_lexer": "ipython2",
   "version": "2.7.15"
  }
 },
 "nbformat": 4,
 "nbformat_minor": 2
}
