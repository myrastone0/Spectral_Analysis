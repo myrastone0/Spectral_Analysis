{
 "cells": [
  {
   "cell_type": "code",
   "execution_count": 1,
   "metadata": {},
   "outputs": [],
   "source": [
    "\"\"\"\n",
    "Probably gonna need to update this in future.\n",
    "\"\"\"\n",
    "\n",
    "objectInfoDict={'m82'     :{'redshift'    :0.000677,\n",
    "                            'centerCoo'   :(148.9667,69.6794),\n",
    "                            '1arcScaleBar':'17.5 pc',\n",
    "                            'inclination' : 81,\n",
    "                            'majorPA'     : 65,\n",
    "                            'distance'    : 3.6},\n",
    "                'cenA'    :{'redshift'    :0.001825,\n",
    "                            'centerCoo'   :(201.3650633,-43.0191125),\n",
    "                            '1arcScaleBar':'18.6 pc',\n",
    "                            'inclination' : 75,\n",
    "                            'majorPA'     : 145,\n",
    "                            'distance'    : 3.84},\n",
    "                'circinus':{'redshift'    :0.001448,\n",
    "                            'centerCoo'   :(213.29147083,-65.33921861),\n",
    "                            '1arcScaleBar':'20.4 pc',\n",
    "                            'inclination' : 65,\n",
    "                            'majorPA'     : 216,\n",
    "                            'distance'    : 4.2},\n",
    "                'ngc253'  :{'redshift'    :0.000811,\n",
    "                            'centerCoo'   :(11.888002,-25.288220),\n",
    "                            '1arcScaleBar':'20 pc',\n",
    "                            'inclination' : 76,\n",
    "                            'majorPA'     : 51,\n",
    "                            'distance'    : 3.9},\n",
    "                'ngc1068' :{'redshift'    :0.003793,\n",
    "                            'centerCoo'   :(40.6696292,-0.0132806),\n",
    "                            '1arcScaleBar':'72 pc',\n",
    "                            'inclination' : 40,\n",
    "                            'majorPA'     : 30,\n",
    "                            'distance'    : 14.4},\n",
    "                'ngc3079' :{'redshift'    :0.003723,\n",
    "                            'centerCoo'   :(150.4908475, 55.6797894),\n",
    "                            '1arcScaleBar':'85 pc',\n",
    "                            'inclination' : 84,\n",
    "                            'majorPA'     : 166,\n",
    "                            'distance'    : 16},\n",
    "                'ngc4945' :{'redshift'    :0.001878,\n",
    "                            'centerCoo'   :(196.3644897,-49.4682129),\n",
    "                            '1arcScaleBar':'20 pc',\n",
    "                            'inclination' : 75,\n",
    "                            'majorPA'     : 45,\n",
    "                            'distance'    : 3.8},\n",
    "                'ngc6240' :{'redshift'    :0.024480,\n",
    "                            'centerCoo'   :(253.245295,2.400926),\n",
    "                            '1arcScaleBar':'722 pc',\n",
    "                            'inclination' : '?',\n",
    "                            'majorPA'     : '?',\n",
    "                            'distance'    : 147}\n",
    "               }\n",
    "\n",
    "from dictionaryThings import saveDict\n",
    "saveDict(dictionary=objectInfoDict,saveName='/Volumes/QbertPrimary/umdResearch/adapProposalNearby/objectInfoDict.pkl')"
   ]
  },
  {
   "cell_type": "code",
   "execution_count": null,
   "metadata": {},
   "outputs": [],
   "source": [
    "\"\"\"\n",
    "    This is a script which utilizes the ObsInfo class.\n",
    "\n",
    "    Create an instance of ObsInfo using data and parameters from a single Herschel\n",
    "    observation. Compute the reference velocity for the spectral axis, \n",
    "    update FITS header keywords, and save to new FITS file.\n",
    "    \n",
    "    Create the params.txt input file for BBarolo.\n",
    "\"\"\""
   ]
  },
  {
   "cell_type": "code",
   "execution_count": 1,
   "metadata": {},
   "outputs": [],
   "source": [
    "%load_ext autoreload\n",
    "%autoreload 2"
   ]
  },
  {
   "cell_type": "code",
   "execution_count": 1,
   "metadata": {},
   "outputs": [],
   "source": [
    "# Standard\n",
    "import os\n",
    "import numpy as np\n",
    "# Related\n",
    "from astropy.wcs import WCS\n",
    "# Local\n",
    "from ObsInfo import ObsInfo\n",
    "from dictionaryThings import loadDict\n",
    "from functionThings import waveToVel"
   ]
  },
  {
   "cell_type": "code",
   "execution_count": 2,
   "metadata": {},
   "outputs": [],
   "source": [
    "# Spaxel size\n",
    "arcsec = '1arc'\n",
    "\n",
    "# Which program will be reading the output FITS file?\n",
    "program = '3dBarolo'\n",
    "#program = 'kpvslice'\n",
    "\n",
    "# Use the fitted model fluxes?\n",
    "model= False\n",
    "\n",
    "topPath = '/Volumes/QbertPrimary/umdResearch/adapProposalNearby/'\n",
    "\n",
    "\n",
    "# ----------------------------------------- #\n",
    "# Necessary parameter file and dictionaries #\n",
    "# ----------------------------------------- #\n",
    "# Dictionary of galaxy properties\n",
    "objDictName = topPath+'objectInfoDict.pkl'\n",
    "# Dictionary of emission line properties.\n",
    "lineDict = loadDict(topPath+'emiLineDict.pkl')\n",
    "# Text file of line fitting parameters.\n",
    "paramFileName = topPath + 'fittingParametersV4.txt'\n",
    "\n",
    "\n",
    "# -------------------------------------------------- #\n",
    "# Read in the parameter file containing line profile #\n",
    "# velocity limits and continuum fitting information. #\n",
    "# -------------------------------------------------- #\n",
    "paramFileData = np.genfromtxt(paramFileName, dtype=None, autostrip=True,\n",
    "                              names=True, encoding=None)"
   ]
  },
  {
   "cell_type": "code",
   "execution_count": 3,
   "metadata": {},
   "outputs": [
    {
     "name": "stdout",
     "output_type": "stream",
     "text": [
      "circinus oiii88\n"
     ]
    },
    {
     "name": "stderr",
     "output_type": "stream",
     "text": [
      "WARNING: FITSFixedWarning: 'unitfix' made the change 'Changed units: 'KM/S' -> 'km/S''. [astropy.wcs.wcs]\n"
     ]
    }
   ],
   "source": [
    "for x in range(len(paramFileData)):\n",
    "    # ------------------------------------ #\n",
    "    # Get the galaxy and line information. #\n",
    "    # ------------------------------------ #\n",
    "    obsInfo = ObsInfo(x, paramFileName, objDictName)\n",
    "    \n",
    "    # Name of the emission line.\n",
    "    lineName = paramFileData['lineNameShort'][x]\n",
    "    # Rest wavelength of the emission line.\n",
    "    restWave = lineDict[lineName]['restWave']\n",
    "    sysWave = (1.+obsInfo.z)*restWave\n",
    "    # Spatial resolution at line wavelength\n",
    "    spatRes = lineDict[lineName]['spatRes']\n",
    "\n",
    "\n",
    "    # ----------------------------------------- #\n",
    "    # Create the base names for saving outputs. #\n",
    "    # ----------------------------------------- #\n",
    "    # Base for the object's file names.\n",
    "    objectNameBase = (str(obsInfo.obsId)+'_'+obsInfo.objectName\n",
    "                      +'_'+lineName)\n",
    "    \n",
    "    # Base path to the object's folders.\n",
    "    objectPathBase = (topPath+'pySpecKitCube/run4/'+obsInfo.objectName\n",
    "                          +'/'+arcsec+'/'+program+'/')\n",
    "    if (not os.path.exists(objectPathBase)):os.makedirs(objectPathBase)\n",
    "\n",
    "\n",
    "\n",
    "    # -------------------------------------------------------------- #\n",
    "    # Find the minimum velocity of the spectral axis.                #\n",
    "    # This will be set as the reference velocity in the FITS header. #\n",
    "    # -------------------------------------------------------------- #\n",
    "    fitsFile = (topPath+'pySpecKitCube/run4/'+obsInfo.objectName+'/'\n",
    "                +arcsec+'/outFitsFiles/'+objectNameBase+'.fits')\n",
    "\n",
    "    if program == 'kpvslice':\n",
    "        velCorr = True\n",
    "        cunit3 = 'kms'\n",
    "    if program == '3dBarolo':\n",
    "        velCorr = False\n",
    "        cunit3 = 'KM/S'\n",
    "\n",
    "    obsInfo.computeVels(fitsFile, restWave, velCorr=velCorr)\n",
    "\n",
    "\n",
    "    # ----------------------------------------------------- #\n",
    "    # Update/add spectral axis keywords in the FITS header. #\n",
    "    # Also add beamsize information.                        #\n",
    "    # ----------------------------------------------------- #\n",
    "    if model != True:\n",
    "        fitsSavePath = objectPathBase + 'inFits/'\n",
    "        fluxStr = 'contSubFluxes'\n",
    "    else:\n",
    "        fitsSavePath = objectPathBase + 'modelInFits/'\n",
    "        fluxStr = 'modTotalFluxes'\n",
    "    if (not os.path.exists(fitsSavePath)):os.makedirs(fitsSavePath)\n",
    "    \n",
    "    fitsSaveName = fitsSavePath+objectNameBase+'_hdrEditVel.fits'\n",
    "    \n",
    "    obsInfo.updateHdr(fitsFile, restWave, beamSize=spatRes, \n",
    "                      saveFile=fitsSaveName, cunit3=cunit3, flux=fluxStr)\n",
    "\n",
    "\n",
    "    if program == '3dBarolo':\n",
    "        # --------------------------- #\n",
    "        # Parameters for barolo input #\n",
    "        # --------------------------- #\n",
    "        raCenter, decCenter = obsInfo.raCenter, obsInfo.decCenter\n",
    "        w = WCS(obsInfo.hdr).celestial\n",
    "        xPos, yPos = w.wcs_world2pix(raCenter, decCenter, 1)\n",
    "        vSys = int(waveToVel(sysWave, restWave))\n",
    "\n",
    "\n",
    "        # ------------------------ #\n",
    "        # Save BBarolo parameters. #\n",
    "        # ------------------------ #\n",
    "        paramFilePath = objectPathBase + lineName + '/'\n",
    "        if (not os.path.exists(paramFilePath)):os.makedirs(paramFilePath)\n",
    "\n",
    "        outFile = open(paramFilePath + 'params.txt', 'w')\n",
    "        outFile.write('FITSFILE    ' + fitsSaveName + '\\n'+\n",
    "                      'OUTFOLDER   ' + objectPathBase + lineName + '/\\n'+\n",
    "                      '{0:<10s}'.format('THREADS') + '{0:<8s}'.format('4') +'\\n'+\n",
    "                      '{0:<10s}'.format('BEAMFWHM') + '{0:<8s}'.format(str(spatRes)) +'\\n'+\n",
    "                      '{0:<10s}'.format('GALFIT') + '{0:<8s}'.format('TRUE') +'\\n'+\n",
    "                      '{0:<10s}'.format('NRADII') + '{0:<8s}'.format('5') +'\\n'+\n",
    "                      '{0:<10s}'.format('RADSEP') + '{0:<8s}'.format('4') +'\\n'+\n",
    "                      '{0:<10s}'.format('VSYS') + '{0:<8s}'.format(str(vSys)) +'\\n'+\n",
    "                      '{0:<10s}'.format('XPOS') + '{0:<8s}'.format(str(int(xPos))) +'\\n'+\n",
    "                      '{0:<10s}'.format('YPOS') + '{0:<8s}'.format(str(int(yPos))) +'\\n'+\n",
    "                      '{0:<10s}'.format('VROT') + '{0:<8s}'.format('60') +'\\n'+\n",
    "                      '{0:<10s}'.format('VDISP') + '{0:<8s}'.format('100') +'\\n'+\n",
    "                      '{0:<10s}'.format('INC') + '{0:<8s}'.format(str(obsInfo.inc)) +'\\n'+\n",
    "                      '{0:<10s}'.format('DELTAINC') + '{0:<8s}'.format('15') +'\\n'+\n",
    "                      '{0:<10s}'.format('PA') + '{0:<8s}'.format(str(obsInfo.majorPA)) +'\\n'+\n",
    "                      '{0:<10s}'.format('DELTAPA') + '{0:<8s}'.format('15') +'\\n'+\n",
    "                      '{0:<10s}'.format('Z0') + '{0:<8s}'.format('.5') +'\\n'+\n",
    "                      '{0:<10s}'.format('FREE') + '{0:<8s}'.format('VROT VDISP INC PA') +'\\n'+\n",
    "                      '{0:<10s}'.format('NORM') + '{0:<8s}'.format('LOCAL') +'\\n'+\n",
    "                      '{0:<10s}'.format('MASK') + '{0:<8s}'.format('NONE') +'\\n'+\n",
    "                      '{0:<10s}'.format('LTYPE') + '{0:<8s}'.format('2') +'\\n'+\n",
    "                      '{0:<10s}'.format('FTYPE') + '{0:<8s}'.format('2') +'\\n'+\n",
    "                      '{0:<10s}'.format('DISTANCE') + '{0:<8s}'.format(str(obsInfo.distance)) +'\\n'+\n",
    "                      '{0:<10s}'.format('BWEIGHT') + '{0:<8s}'.format('1') +'\\n'+\n",
    "                      '{0:<10s}'.format('WFUNC') + '{0:<8s}'.format('2') +'\\n'+\n",
    "                      '{0:<10s}'.format('LINEAR') + '{0:<8s}'.format('1.699') +'\\n'+  \n",
    "                      '{0:<10s}'.format('TWOSTAGE') + '{0:<8s}'.format('TRUE') +'\\n'+  \n",
    "                      '\\n')\n",
    "        outFile.close()\n",
    "\n",
    "    print obsInfo.objectName, lineName\n",
    "    break"
   ]
  },
  {
   "cell_type": "code",
   "execution_count": 11,
   "metadata": {},
   "outputs": [],
   "source": [
    "from astropy.io import fits\n",
    "h = fits.open(fitsFile)"
   ]
  },
  {
   "cell_type": "code",
   "execution_count": 14,
   "metadata": {},
   "outputs": [
    {
     "name": "stdout",
     "output_type": "stream",
     "text": [
      "Filename: /Volumes/QbertPrimary/umdResearch/adapProposalNearby/pySpecKitCube/run4/circinus/1arc/outFitsFiles/1342191297_circinus_oiii88.fits\n",
      "No.    Name      Ver    Type      Cards   Dimensions   Format\n",
      "  0  PRIMARY       1 PrimaryHDU     365   ()      \n",
      "  1  image         1 ImageHDU        70   (70, 71, 573)   float64   \n",
      "  2  error         1 ImageHDU        70   (70, 71, 573)   float64   \n",
      "  3  wcs-tab       1 BinTableHDU     37   1R x 2C   [573D, 573J]   \n",
      "  4  flag          1 ImageHDU        58   (70, 71, 573)   int16   \n",
      "  5  History       1 ImageHDU        23   ()      \n",
      "  6  HistoryScript    1 BinTableHDU     44   75R x 1C   [185A]   \n",
      "  7  HistoryTasks    1 BinTableHDU     46   43R x 4C   [1K, 31A, 1K, 9A]   \n",
      "  8  HistoryParameters    1 BinTableHDU     74   431R x 10C   [1K, 27A, 13A, 20A, 1L, 1K, 1L, 58A, 11A, 42A]   \n",
      "  9  flux          1 ImageHDU         8   (70, 71)   float64   \n",
      " 10  wAsym         1 ImageHDU         8   (70, 71)   float64   \n",
      " 11  w1            1 ImageHDU         8   (70, 71)   float64   \n",
      " 12  v50           1 ImageHDU         8   (70, 71)   float64   \n",
      " 13  rms           1 ImageHDU         8   (70, 71)   float64   \n",
      " 14  v84           1 ImageHDU         8   (70, 71)   float64   \n",
      " 15  meanAbsErr    1 ImageHDU         8   (70, 71)   float64   \n",
      " 16  w2            1 ImageHDU         8   (70, 71)   float64   \n",
      " 17  gaussParam    1 ImageHDU         9   (70, 71, 6)   float64   \n",
      " 18  modTotalFluxes    1 ImageHDU         9   (70, 71, 370)   float64   \n",
      " 19  contSubFluxes    1 ImageHDU         9   (70, 71, 370)   float64   \n",
      " 20  fittedContFluxes    1 ImageHDU         9   (70, 71, 370)   float64   \n",
      " 21  zCorrVels     1 ImageHDU         7   (370,)   float64   \n"
     ]
    }
   ],
   "source": [
    "h.info()"
   ]
  },
  {
   "cell_type": "code",
   "execution_count": 21,
   "metadata": {},
   "outputs": [],
   "source": [
    "from astropy.io import fits\n",
    "modF = objectPathBase + 'modelInFits/'+objectNameBase+'_hdrEditVel.fits'\n",
    "datF = objectPathBase + 'inFits/'+objectNameBase+'_hdrEditVel.fits'\n",
    "\n",
    "col,row = 25,25\n",
    "mod = fits.open(modF)['image'].data[:,col,row]\n",
    "dat = fits.open(datF)['image'].data[:,col,row]\n",
    "\n",
    "x = fits.open(fitsFile)['zCorrVels'].data"
   ]
  },
  {
   "cell_type": "code",
   "execution_count": 22,
   "metadata": {},
   "outputs": [
    {
     "data": {
      "text/plain": [
       "[<matplotlib.lines.Line2D at 0x113eebd50>]"
      ]
     },
     "execution_count": 22,
     "metadata": {},
     "output_type": "execute_result"
    },
    {
     "data": {
      "image/png": "[encoded data removed]",
      "text/plain": [
       "<Figure size 432x288 with 1 Axes>"
      ]
     },
     "metadata": {},
     "output_type": "display_data"
    }
   ],
   "source": [
    "import matplotlib.pyplot as plt\n",
    "fig = plt.figure(facecolor='white')\n",
    "ax = fig.add_subplot(111)\n",
    "ax.plot(x,mod)\n",
    "ax.plot(x,dat)"
   ]
  },
  {
   "cell_type": "code",
   "execution_count": null,
   "metadata": {},
   "outputs": [],
   "source": []
  }
 ],
 "metadata": {
  "kernelspec": {
   "display_name": "Python 2",
   "language": "python",
   "name": "python2"
  },
  "language_info": {
   "codemirror_mode": {
    "name": "ipython",
    "version": 2
   },
   "file_extension": ".py",
   "mimetype": "text/x-python",
   "name": "python",
   "nbconvert_exporter": "python",
   "pygments_lexer": "ipython2",
   "version": "2.7.15"
  }
 },
 "nbformat": 4,
 "nbformat_minor": 2
}
