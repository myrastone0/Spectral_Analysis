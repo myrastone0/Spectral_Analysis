{
 "cells": [
  {
   "cell_type": "code",
   "execution_count": 2,
   "metadata": {},
   "outputs": [
    {
     "name": "stdout",
     "output_type": "stream",
     "text": [
      "m82 oiii88\n",
      "vDisp: 80.03633333333333\n",
      "PA: 65.0\n"
     ]
    }
   ],
   "source": [
    "\"\"\"\n",
    "    Compute the mean instrinsic velocity dispersion and the PA of the outer rings.\n",
    "\"\"\"\n",
    "\n",
    "import numpy as np\n",
    "from ObsInfo import ObsInfo\n",
    "from dictionaryThings import loadDict\n",
    "\n",
    "out = 'modOut0'\n",
    "ringLogNum = '1'\n",
    "ringNum = 3     # Number of outer rings to use for the mean.\n",
    "arcsec = '3arc'\n",
    "\n",
    "topPath = '/Volumes/QbertPrimary/umdResearch/adapProposalNearby/'\n",
    "\n",
    "\n",
    "# ----------------------------------------- #\n",
    "# Necessary parameter file and dictionaries #\n",
    "# ----------------------------------------- #\n",
    "# Dictionary of galaxy properties\n",
    "objDictName = topPath+'objectInfoDict.pkl'\n",
    "# Dictionary of emission line properties.\n",
    "lineDict = loadDict(topPath+'emiLineDict.pkl')\n",
    "# Text file of line fitting parameters.\n",
    "paramFileName = topPath + 'fittingParametersV4.txt'\n",
    "\n",
    "\n",
    "# -------------------------------------------------- #\n",
    "# Read in the parameter file containing line profile #\n",
    "# velocity limits and continuum fitting information. #\n",
    "# -------------------------------------------------- #\n",
    "paramFileData = np.genfromtxt(paramFileName, dtype=None, autostrip=True,\n",
    "                              names=True, encoding=None)\n",
    "\n",
    "for x in range(len(paramFileData)):\n",
    "    # ------------------------------------ #\n",
    "    # Get the galaxy and line information. #\n",
    "    # ------------------------------------ #\n",
    "    obsInfo = ObsInfo(x, paramFileName, objDictName)\n",
    "    \n",
    "    # Name of the emission line.\n",
    "    lineName = paramFileData['lineNameShort'][x]\n",
    "    # Rest wavelength of the emission line.\n",
    "    restWave = lineDict[lineName]['restWave']\n",
    "    sysWave = (1.+obsInfo.z)*restWave\n",
    "    # Spatial resolution at line wavelength\n",
    "    spatRes = lineDict[lineName]['spatRes']\n",
    "\n",
    "\n",
    "    # ----------------------------------------- #\n",
    "    # Create the base names for saving outputs. #\n",
    "    # ----------------------------------------- #\n",
    "    # Base for the object's file names.\n",
    "    objectNameBase = (str(obsInfo.obsId)+'_'+obsInfo.objectName\n",
    "                      +'_'+lineName)\n",
    "    \n",
    "    # Base path to the object's folders.\n",
    "    objectPathBase = (topPath+'pySpecKitCube/run4/'+obsInfo.objectName\n",
    "                          +'/'+arcsec+'/3dBarolo/'+lineName+'/')\n",
    "\n",
    "\n",
    "\n",
    "\n",
    "    ringData = np.genfromtxt(objectPathBase+out+'/ringLog'+ringLogNum+'.txt',\n",
    "                             dtype=None, autostrip=True, names=True, encoding=None)\n",
    "    vDispMean = np.mean(ringData['DISPkms'][-ringNum:])\n",
    "    paMean = np.mean(ringData['PAdeg'][-ringNum:])\n",
    "\n",
    "    print obsInfo.objectName, lineName\n",
    "    print 'vDisp: ' + str(vDispMean)\n",
    "    print 'PA: ' + str(paMean)\n",
    "\n",
    "    break"
   ]
  },
  {
   "cell_type": "code",
   "execution_count": 3,
   "metadata": {},
   "outputs": [
    {
     "data": {
      "text/plain": [
       "array([(0.026,  1.5,  19.269, 97.373, 81., 71.913, 174.537, 10., 1., 34., 33., 202., 0.),\n",
       "       (0.079,  4.5,  66.452, 90.087, 81., 66.587, 174.537, 10., 1., 34., 33., 202., 0.),\n",
       "       (0.131,  7.5,  68.043, 89.555, 81., 65.854, 174.537, 10., 1., 34., 33., 202., 0.),\n",
       "       (0.183, 10.5,  87.479, 82.92 , 81., 66.706, 174.537, 10., 1., 34., 33., 202., 0.),\n",
       "       (0.236, 13.5,  99.559, 72.112, 81., 68.44 , 174.537, 10., 1., 34., 33., 202., 0.),\n",
       "       (0.288, 16.5, 109.943, 69.433, 81., 70.996, 174.537, 10., 1., 34., 33., 202., 0.),\n",
       "       (0.34 , 19.5, 113.101, 68.577, 81., 72.328, 174.537, 10., 1., 34., 33., 202., 0.)],\n",
       "      dtype=[('RADKpc', '<f8'), ('RADarcs', '<f8'), ('VROTkms', '<f8'), ('DISPkms', '<f8'), ('INCdeg', '<f8'), ('PAdeg', '<f8'), ('Z0pc', '<f8'), ('Z0arcs', '<f8'), ('SIGE20', '<f8'), ('XPOSpix', '<f8'), ('YPOSpix', '<f8'), ('VSYSkms', '<f8'), ('VRADkms', '<f8')])"
      ]
     },
     "execution_count": 3,
     "metadata": {},
     "output_type": "execute_result"
    }
   ],
   "source": [
    "ringData"
   ]
  },
  {
   "cell_type": "code",
   "execution_count": null,
   "metadata": {},
   "outputs": [],
   "source": []
  }
 ],
 "metadata": {
  "kernelspec": {
   "display_name": "Python 2",
   "language": "python",
   "name": "python2"
  },
  "language_info": {
   "codemirror_mode": {
    "name": "ipython",
    "version": 2
   },
   "file_extension": ".py",
   "mimetype": "text/x-python",
   "name": "python",
   "nbconvert_exporter": "python",
   "pygments_lexer": "ipython2",
   "version": "2.7.15"
  }
 },
 "nbformat": 4,
 "nbformat_minor": 2
}
