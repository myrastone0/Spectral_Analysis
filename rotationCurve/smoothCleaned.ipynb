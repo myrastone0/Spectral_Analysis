{
 "cells": [
  {
   "cell_type": "code",
   "execution_count": null,
   "metadata": {},
   "outputs": [],
   "source": [
    "\"\"\"\n",
    "    Convolving the already cleaned color maps to make them look even prettier.\n",
    "\n",
    "\"\"\""
   ]
  },
  {
   "cell_type": "code",
   "execution_count": 1,
   "metadata": {},
   "outputs": [],
   "source": [
    "import os\n",
    "import numpy as np\n",
    "\n",
    "import matplotlib.pyplot as plt\n",
    "import matplotlib\n",
    "from astropy.io import fits\n",
    "from astropy.wcs import WCS\n",
    "from astropy.convolution import Gaussian2DKernel\n",
    "from astropy.convolution import convolve\n",
    "\n",
    "from dictionaryThings import loadDict\n",
    "from ObsInfo import ObsInfo"
   ]
  },
  {
   "cell_type": "code",
   "execution_count": 2,
   "metadata": {},
   "outputs": [],
   "source": [
    "%load_ext autoreload\n",
    "%autoreload 2\n",
    "%matplotlib inline"
   ]
  },
  {
   "cell_type": "code",
   "execution_count": 3,
   "metadata": {},
   "outputs": [
    {
     "name": "stdout",
     "output_type": "stream",
     "text": [
      "ngc1068 oiii88\n"
     ]
    }
   ],
   "source": [
    "out = 'modOut1'\n",
    "arcsec = '1arc'\n",
    "topDir = '/Volumes/QbertPrimary/umdResearch/adapProposalNearby/'\n",
    "\n",
    "\n",
    "# ----------------------------------------- #\n",
    "# Necessary parameter file and dictionaries #\n",
    "# ----------------------------------------- #\n",
    "# Dictionary of galaxy properties\n",
    "objDictName = topDir + 'objectInfoDict.pkl'\n",
    "# Dictionary of emission line properties.\n",
    "lineDict = loadDict(topDir + 'emiLineDict.pkl')\n",
    "# Text file of line fitting parameters.\n",
    "paramFileName = topDir + 'fittingParametersV4.txt'\n",
    "\n",
    "\n",
    "# -------------------------------------------------- #\n",
    "# Read in the parameter file containing line profile #\n",
    "# velocity limits and continuum fitting information. #\n",
    "# -------------------------------------------------- #\n",
    "paramFileData = np.genfromtxt(paramFileName, dtype = None, \n",
    "                              autostrip = True, names = True, encoding=None)\n",
    "\n",
    "\n",
    "for x in range(len(paramFileData)):\n",
    "    # ------------------------------------ #\n",
    "    # Get the galaxy and line information. #\n",
    "    # ------------------------------------ #\n",
    "    obsInfo = ObsInfo(x, paramFileName, objDictName)\n",
    "    \n",
    "    # Name of the emission line.\n",
    "    lineName = paramFileData['lineNameShort'][x]\n",
    "    # Rest wavelength of the emission line.\n",
    "    restWave = lineDict[lineName]['restWave']\n",
    "\n",
    "\n",
    "    # ----------------------------------------- #\n",
    "    # Create the base names for saving outputs. #\n",
    "    # ----------------------------------------- #\n",
    "    # Base for the object's file names.\n",
    "    objectNameBase = (str(obsInfo.obsId)+'_'+obsInfo.objectName\n",
    "                      +'_'+lineName)\n",
    "    \n",
    "    # Base path to the object's folders.\n",
    "    objectPathBase = (topDir+'pySpecKitCube/run4/'+obsInfo.objectName\n",
    "                          +'/'+arcsec+'/3dBarolo/')\n",
    "    if (not os.path.exists(objectPathBase)):os.makedirs(objectPathBase)\n",
    "\n",
    "\n",
    "    fitsFile = (topDir+'pySpecKitCube/run4/'+obsInfo.objectName+'/'\n",
    "                +arcsec+'/outFitsFiles2/'+objectNameBase+'_cleaned.fits')\n",
    "    fitsHdu = fits.open(fitsFile)\n",
    "    data = fitsHdu['contSubFluxesClean'].data\n",
    "    trueMask = np.ma.getmask(np.ma.masked_where(data==0,data)) \n",
    "    dataMasked = np.ma.masked_array(fitsHdu['contSubFluxesClean'].data,mask=trueMask)\n",
    "    dataModMasked = np.ma.masked_array(fitsHdu['modelFluxesClean'].data,mask=trueMask)\n",
    "    dataFluxesMasked = np.ma.masked_array(fitsHdu['fluxClean'].data,mask=trueMask[100,:,:])\n",
    "    dataV50Masked = np.ma.masked_array(fitsHdu['v50Clean'].data,mask=trueMask[100,:,:])\n",
    "    dataW1Masked = np.ma.masked_array(fitsHdu['w1Clean'].data,mask=trueMask[100,:,:])        \n",
    "    dataW2Masked = np.ma.masked_array(fitsHdu['w2Clean'].data,mask=trueMask[100,:,:])\n",
    "\n",
    "    vels = fitsHdu['zCorrVels'].data\n",
    "    pacsWcs=WCS(fitsHdu['image'].header).celestial\n",
    "    nRows,nCols,nFluxes = data.shape[2], data.shape[1], data.shape[0]\n",
    "    minProfIdx = (np.abs(vels - (obsInfo.profileMin))).argmin()\n",
    "    maxProfIdx = (np.abs(vels - (obsInfo.profileMax))).argmin()\n",
    "    \n",
    "    print obsInfo.objectName, lineName\n",
    "    break"
   ]
  },
  {
   "cell_type": "code",
   "execution_count": 4,
   "metadata": {},
   "outputs": [],
   "source": [
    "    # Sigma value for the 2D kernel.\n",
    "    sig=2/2.35\n",
    "    kernel = Gaussian2DKernel(sig)\n",
    "    # Do the convolution in both flux units (unless the line is CII)\n",
    "    conImg=convolve(dataFluxesMasked,kernel)\n",
    "    \n",
    "    conImgMasked = np.ma.masked_array(conImg,mask=trueMask[100,:,:])"
   ]
  },
  {
   "cell_type": "code",
   "execution_count": 10,
   "metadata": {},
   "outputs": [
    {
     "name": "stdout",
     "output_type": "stream",
     "text": [
      "Unknown coordinate system, RA---TAN, DEC--TAN, equinox=nan\n"
     ]
    },
    {
     "data": {
      "image/png": "[encoded data removed]",
      "text/plain": [
       "<Figure size 800x400 with 4 Axes>"
      ]
     },
     "metadata": {},
     "output_type": "display_data"
    }
   ],
   "source": [
    "    import pywcsgrid2\n",
    "    from mpl_toolkits.axes_grid1.axes_grid import AxesGrid\n",
    "\n",
    "    \n",
    "    imgList = [dataFluxesMasked,conImgMasked]\n",
    "\n",
    "    vmin = np.nanmin(np.concatenate((dataFluxesMasked,conImgMasked)))\n",
    "    vmax = np.nanmax(np.concatenate((dataFluxesMasked,conImgMasked)))\n",
    "\n",
    "    labelSize = 5\n",
    "    matplotlib.rcParams['xtick.labelsize'] = labelSize\n",
    "    matplotlib.rcParams['ytick.labelsize'] = labelSize\n",
    "\n",
    "    cbarMode = 'single'\n",
    "    cbarPad=0.01\n",
    "    axesPad = (0.4,0.1)\n",
    "\n",
    "    # grid helper\n",
    "    grid_helper = pywcsgrid2.GridHelper(wcs=pacsWcs)\n",
    "    fig = plt.figure(facecolor='white',dpi=100,figsize=(8,4))\n",
    "    # Setup the grid for plotting.\n",
    "    grid = AxesGrid(fig, 111,\n",
    "                  nrows_ncols=(1,2),\n",
    "                  axes_pad= axesPad,\n",
    "                  cbar_mode=cbarMode,\n",
    "                  cbar_location='right',\n",
    "                  cbar_pad=cbarPad,\n",
    "                  axes_class=(pywcsgrid2.Axes, dict(grid_helper=grid_helper)),\n",
    "                  share_all=True)\n",
    "    # Plot the image.\n",
    "    cmap = matplotlib.cm.jet\n",
    "    cmap.set_bad('black',1.) ## Set masked pixels to be black.\n",
    "\n",
    "    for count in [0,1]:\n",
    "        ax = grid[count]\n",
    "        im = ax.imshow(imgList[count],vmin=vmin,vmax=vmax,cmap=cmap)\n",
    "\n",
    "    tickLevels=np.linspace(vmin,vmax,5,endpoint=True,dtype=int)\n",
    "    cbar1 = ax.cax.colorbar(im,ticks=tickLevels)\n",
    "    cbar1.ax.tick_params(labelsize=8)\n",
    "\n",
    "    fig.text(0.5, 0.85, obsInfo.objectName.upper() + ' ' + lineName,ha='center',fontsize=10)\n",
    "\n",
    "    plt.show()"
   ]
  },
  {
   "cell_type": "code",
   "execution_count": null,
   "metadata": {},
   "outputs": [],
   "source": [
    "    # Output FITS files\n",
    "    fitsSavePath = objectPathBase + 'outFitsFiles2/'\n",
    "    if (not os.path.exists(fitsSavePath)):os.makedirs(fitsSavePath)\n",
    "\n",
    "\n",
    "    # Make new FITS file with cleaned images and cubes.\n",
    "    fitsSaveName = fitsSavePath + objectNameBase + '_cleaned.fits'\n",
    "    for propName in propDictCopy.keys():\n",
    "        createHdu(propDictCopy[propName],fitsHdu, propName+'Clean')\n",
    "    createHdu(vels,fitsHdu, 'zCorrVels')\n",
    "\n",
    "    # Save HDUList to new FITS file.\n",
    "    fitsHdu.writeto(fitsSaveName, overwrite=True)"
   ]
  }
 ],
 "metadata": {
  "kernelspec": {
   "display_name": "Python 2",
   "language": "python",
   "name": "python2"
  },
  "language_info": {
   "codemirror_mode": {
    "name": "ipython",
    "version": 2
   },
   "file_extension": ".py",
   "mimetype": "text/x-python",
   "name": "python",
   "nbconvert_exporter": "python",
   "pygments_lexer": "ipython2",
   "version": "2.7.15"
  }
 },
 "nbformat": 4,
 "nbformat_minor": 2
}
